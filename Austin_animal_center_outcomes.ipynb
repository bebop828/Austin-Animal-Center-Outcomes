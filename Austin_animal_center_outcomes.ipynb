{
 "cells": [
  {
   "cell_type": "markdown",
   "id": "7e9c4f27-edc8-492e-8097-503c5f02a38f",
   "metadata": {},
   "source": [
    "# Austin Animal Center Outcomes"
   ]
  },
  {
   "cell_type": "markdown",
   "id": "358b3bd1-24ea-4820-b293-e73d47f7b1f0",
   "metadata": {},
   "source": [
    "__Data set__-[Data.gov](Data.gov)   \n",
    "__Last updated__-May 25, 2024   \n",
    "__Publisher__-[data.austintexas.gov](data.austintexas.gov)  "
   ]
  },
  {
   "cell_type": "markdown",
   "id": "b0937252-9d0c-4a3e-bfed-d8f447ea52c7",
   "metadata": {},
   "source": [
    "The city of Austin Texas has a data set that spans from Oct, 1st 2013 to 12/31/2023.  \n",
    "They claim over 90% of animals entering the center are adopted, transferred to a rescue  \n",
    "or returned to their owners. This data should reflect Austin, Tx. is one of the best  \n",
    "in the country for being a **\"No Kill\"** city with regards to their animal centers.  \n"
   ]
  },
  {
   "cell_type": "markdown",
   "id": "08455ab9-0318-4f69-ae53-cb09968625b7",
   "metadata": {},
   "source": [
    "This project will explore the data of different Animal Types for\n",
    "those Euthanized over the collected time period."
   ]
  },
  {
   "cell_type": "code",
   "execution_count": 1,
   "id": "9bd67261-f6bb-4cff-a2a2-a35ebafbdf69",
   "metadata": {},
   "outputs": [],
   "source": [
    "import pandas as pd\n",
    "import matplotlib.pyplot as plt"
   ]
  },
  {
   "cell_type": "code",
   "execution_count": 3,
   "id": "72455b86-b6d9-40dc-8a4c-510d030349b0",
   "metadata": {},
   "outputs": [
    {
     "data": {
      "text/html": [
       "<div>\n",
       "<style scoped>\n",
       "    .dataframe tbody tr th:only-of-type {\n",
       "        vertical-align: middle;\n",
       "    }\n",
       "\n",
       "    .dataframe tbody tr th {\n",
       "        vertical-align: top;\n",
       "    }\n",
       "\n",
       "    .dataframe thead th {\n",
       "        text-align: right;\n",
       "    }\n",
       "</style>\n",
       "<table border=\"1\" class=\"dataframe\">\n",
       "  <thead>\n",
       "    <tr style=\"text-align: right;\">\n",
       "      <th></th>\n",
       "      <th>Animal ID</th>\n",
       "      <th>Name</th>\n",
       "      <th>DateTime</th>\n",
       "      <th>MonthYear</th>\n",
       "      <th>Date of Birth</th>\n",
       "      <th>Outcome Type</th>\n",
       "      <th>Outcome Subtype</th>\n",
       "      <th>Animal Type</th>\n",
       "      <th>Sex upon Outcome</th>\n",
       "      <th>Age upon Outcome</th>\n",
       "      <th>Breed</th>\n",
       "      <th>Color</th>\n",
       "    </tr>\n",
       "  </thead>\n",
       "  <tbody>\n",
       "    <tr>\n",
       "      <th>0</th>\n",
       "      <td>A794011</td>\n",
       "      <td>Chunk</td>\n",
       "      <td>05/08/2019 06:20:00 PM</td>\n",
       "      <td>May 2019</td>\n",
       "      <td>05/02/2017</td>\n",
       "      <td>Rto-Adopt</td>\n",
       "      <td>NaN</td>\n",
       "      <td>Cat</td>\n",
       "      <td>Neutered Male</td>\n",
       "      <td>2 years</td>\n",
       "      <td>Domestic Shorthair Mix</td>\n",
       "      <td>Brown Tabby/White</td>\n",
       "    </tr>\n",
       "    <tr>\n",
       "      <th>1</th>\n",
       "      <td>A776359</td>\n",
       "      <td>Gizmo</td>\n",
       "      <td>07/18/2018 04:02:00 PM</td>\n",
       "      <td>Jul 2018</td>\n",
       "      <td>07/12/2017</td>\n",
       "      <td>Adoption</td>\n",
       "      <td>NaN</td>\n",
       "      <td>Dog</td>\n",
       "      <td>Neutered Male</td>\n",
       "      <td>1 year</td>\n",
       "      <td>Chihuahua Shorthair Mix</td>\n",
       "      <td>White/Brown</td>\n",
       "    </tr>\n",
       "    <tr>\n",
       "      <th>2</th>\n",
       "      <td>A821648</td>\n",
       "      <td>NaN</td>\n",
       "      <td>08/16/2020 11:38:00 AM</td>\n",
       "      <td>Aug 2020</td>\n",
       "      <td>08/16/2019</td>\n",
       "      <td>Euthanasia</td>\n",
       "      <td>NaN</td>\n",
       "      <td>Other</td>\n",
       "      <td>Unknown</td>\n",
       "      <td>1 year</td>\n",
       "      <td>Raccoon</td>\n",
       "      <td>Gray</td>\n",
       "    </tr>\n",
       "    <tr>\n",
       "      <th>3</th>\n",
       "      <td>A720371</td>\n",
       "      <td>Moose</td>\n",
       "      <td>02/13/2016 05:59:00 PM</td>\n",
       "      <td>Feb 2016</td>\n",
       "      <td>10/08/2015</td>\n",
       "      <td>Adoption</td>\n",
       "      <td>NaN</td>\n",
       "      <td>Dog</td>\n",
       "      <td>Neutered Male</td>\n",
       "      <td>4 months</td>\n",
       "      <td>Anatol Shepherd/Labrador Retriever</td>\n",
       "      <td>Buff</td>\n",
       "    </tr>\n",
       "    <tr>\n",
       "      <th>4</th>\n",
       "      <td>A674754</td>\n",
       "      <td>NaN</td>\n",
       "      <td>03/18/2014 11:47:00 AM</td>\n",
       "      <td>Mar 2014</td>\n",
       "      <td>03/12/2014</td>\n",
       "      <td>Transfer</td>\n",
       "      <td>Partner</td>\n",
       "      <td>Cat</td>\n",
       "      <td>Intact Male</td>\n",
       "      <td>6 days</td>\n",
       "      <td>Domestic Shorthair Mix</td>\n",
       "      <td>Orange Tabby</td>\n",
       "    </tr>\n",
       "    <tr>\n",
       "      <th>...</th>\n",
       "      <td>...</td>\n",
       "      <td>...</td>\n",
       "      <td>...</td>\n",
       "      <td>...</td>\n",
       "      <td>...</td>\n",
       "      <td>...</td>\n",
       "      <td>...</td>\n",
       "      <td>...</td>\n",
       "      <td>...</td>\n",
       "      <td>...</td>\n",
       "      <td>...</td>\n",
       "      <td>...</td>\n",
       "    </tr>\n",
       "    <tr>\n",
       "      <th>162846</th>\n",
       "      <td>A905676</td>\n",
       "      <td>NaN</td>\n",
       "      <td>05/27/2024 11:06:00 AM</td>\n",
       "      <td>May 2024</td>\n",
       "      <td>03/23/2024</td>\n",
       "      <td>Euthanasia</td>\n",
       "      <td>Suffering</td>\n",
       "      <td>Cat</td>\n",
       "      <td>Unknown</td>\n",
       "      <td>2 months</td>\n",
       "      <td>Domestic Shorthair</td>\n",
       "      <td>Brown Tabby</td>\n",
       "    </tr>\n",
       "    <tr>\n",
       "      <th>162847</th>\n",
       "      <td>A905707</td>\n",
       "      <td>A905707</td>\n",
       "      <td>05/24/2024 11:38:00 AM</td>\n",
       "      <td>May 2024</td>\n",
       "      <td>12/24/2019</td>\n",
       "      <td>Transfer</td>\n",
       "      <td>Partner</td>\n",
       "      <td>Dog</td>\n",
       "      <td>Intact Male</td>\n",
       "      <td>4 years</td>\n",
       "      <td>Shih Tzu</td>\n",
       "      <td>White</td>\n",
       "    </tr>\n",
       "    <tr>\n",
       "      <th>162848</th>\n",
       "      <td>A904449</td>\n",
       "      <td>*Noodle Soup</td>\n",
       "      <td>05/26/2024 10:29:00 AM</td>\n",
       "      <td>May 2024</td>\n",
       "      <td>03/10/2023</td>\n",
       "      <td>Transfer</td>\n",
       "      <td>Partner</td>\n",
       "      <td>Dog</td>\n",
       "      <td>Intact Male</td>\n",
       "      <td>1 year</td>\n",
       "      <td>Boxer</td>\n",
       "      <td>Brown/Brown</td>\n",
       "    </tr>\n",
       "    <tr>\n",
       "      <th>162849</th>\n",
       "      <td>A905198</td>\n",
       "      <td>NaN</td>\n",
       "      <td>05/26/2024 05:35:00 PM</td>\n",
       "      <td>May 2024</td>\n",
       "      <td>04/26/2024</td>\n",
       "      <td>Transfer</td>\n",
       "      <td>Partner</td>\n",
       "      <td>Cat</td>\n",
       "      <td>Intact Female</td>\n",
       "      <td>4 weeks</td>\n",
       "      <td>Domestic Medium Hair</td>\n",
       "      <td>Brown Tabby</td>\n",
       "    </tr>\n",
       "    <tr>\n",
       "      <th>162850</th>\n",
       "      <td>A905197</td>\n",
       "      <td>NaN</td>\n",
       "      <td>05/26/2024 05:34:00 PM</td>\n",
       "      <td>May 2024</td>\n",
       "      <td>04/26/2024</td>\n",
       "      <td>Transfer</td>\n",
       "      <td>Partner</td>\n",
       "      <td>Cat</td>\n",
       "      <td>Intact Male</td>\n",
       "      <td>4 weeks</td>\n",
       "      <td>Domestic Medium Hair</td>\n",
       "      <td>Orange Tabby/White</td>\n",
       "    </tr>\n",
       "  </tbody>\n",
       "</table>\n",
       "<p>162851 rows × 12 columns</p>\n",
       "</div>"
      ],
      "text/plain": [
       "       Animal ID          Name                DateTime MonthYear  \\\n",
       "0        A794011         Chunk  05/08/2019 06:20:00 PM  May 2019   \n",
       "1        A776359         Gizmo  07/18/2018 04:02:00 PM  Jul 2018   \n",
       "2        A821648           NaN  08/16/2020 11:38:00 AM  Aug 2020   \n",
       "3        A720371         Moose  02/13/2016 05:59:00 PM  Feb 2016   \n",
       "4        A674754           NaN  03/18/2014 11:47:00 AM  Mar 2014   \n",
       "...          ...           ...                     ...       ...   \n",
       "162846   A905676           NaN  05/27/2024 11:06:00 AM  May 2024   \n",
       "162847   A905707       A905707  05/24/2024 11:38:00 AM  May 2024   \n",
       "162848   A904449  *Noodle Soup  05/26/2024 10:29:00 AM  May 2024   \n",
       "162849   A905198           NaN  05/26/2024 05:35:00 PM  May 2024   \n",
       "162850   A905197           NaN  05/26/2024 05:34:00 PM  May 2024   \n",
       "\n",
       "       Date of Birth Outcome Type Outcome Subtype Animal Type  \\\n",
       "0         05/02/2017    Rto-Adopt             NaN         Cat   \n",
       "1         07/12/2017     Adoption             NaN         Dog   \n",
       "2         08/16/2019   Euthanasia             NaN       Other   \n",
       "3         10/08/2015     Adoption             NaN         Dog   \n",
       "4         03/12/2014     Transfer         Partner         Cat   \n",
       "...              ...          ...             ...         ...   \n",
       "162846    03/23/2024   Euthanasia       Suffering         Cat   \n",
       "162847    12/24/2019     Transfer         Partner         Dog   \n",
       "162848    03/10/2023     Transfer         Partner         Dog   \n",
       "162849    04/26/2024     Transfer         Partner         Cat   \n",
       "162850    04/26/2024     Transfer         Partner         Cat   \n",
       "\n",
       "       Sex upon Outcome Age upon Outcome                               Breed  \\\n",
       "0         Neutered Male          2 years              Domestic Shorthair Mix   \n",
       "1         Neutered Male           1 year             Chihuahua Shorthair Mix   \n",
       "2               Unknown           1 year                             Raccoon   \n",
       "3         Neutered Male         4 months  Anatol Shepherd/Labrador Retriever   \n",
       "4           Intact Male           6 days              Domestic Shorthair Mix   \n",
       "...                 ...              ...                                 ...   \n",
       "162846          Unknown         2 months                  Domestic Shorthair   \n",
       "162847      Intact Male          4 years                            Shih Tzu   \n",
       "162848      Intact Male           1 year                               Boxer   \n",
       "162849    Intact Female          4 weeks                Domestic Medium Hair   \n",
       "162850      Intact Male          4 weeks                Domestic Medium Hair   \n",
       "\n",
       "                     Color  \n",
       "0        Brown Tabby/White  \n",
       "1              White/Brown  \n",
       "2                     Gray  \n",
       "3                     Buff  \n",
       "4             Orange Tabby  \n",
       "...                    ...  \n",
       "162846         Brown Tabby  \n",
       "162847               White  \n",
       "162848         Brown/Brown  \n",
       "162849         Brown Tabby  \n",
       "162850  Orange Tabby/White  \n",
       "\n",
       "[162851 rows x 12 columns]"
      ]
     },
     "execution_count": 3,
     "metadata": {},
     "output_type": "execute_result"
    }
   ],
   "source": [
    "austin_df = pd.read_csv('Austin_Animal_Center_Outcomes.csv')\n",
    "austin_df"
   ]
  },
  {
   "cell_type": "code",
   "execution_count": 5,
   "id": "c372bab8-6031-4dd0-9178-6d41bb879f82",
   "metadata": {},
   "outputs": [
    {
     "data": {
      "text/html": [
       "<div>\n",
       "<style scoped>\n",
       "    .dataframe tbody tr th:only-of-type {\n",
       "        vertical-align: middle;\n",
       "    }\n",
       "\n",
       "    .dataframe tbody tr th {\n",
       "        vertical-align: top;\n",
       "    }\n",
       "\n",
       "    .dataframe thead th {\n",
       "        text-align: right;\n",
       "    }\n",
       "</style>\n",
       "<table border=\"1\" class=\"dataframe\">\n",
       "  <thead>\n",
       "    <tr style=\"text-align: right;\">\n",
       "      <th></th>\n",
       "      <th>Animal ID</th>\n",
       "      <th>Name</th>\n",
       "      <th>DateTime</th>\n",
       "      <th>MonthYear</th>\n",
       "      <th>Date of Birth</th>\n",
       "      <th>Outcome Type</th>\n",
       "      <th>Outcome Subtype</th>\n",
       "      <th>Animal Type</th>\n",
       "      <th>Sex upon Outcome</th>\n",
       "      <th>Age upon Outcome</th>\n",
       "      <th>Breed</th>\n",
       "      <th>Color</th>\n",
       "    </tr>\n",
       "  </thead>\n",
       "  <tbody>\n",
       "    <tr>\n",
       "      <th>0</th>\n",
       "      <td>A794011</td>\n",
       "      <td>Chunk</td>\n",
       "      <td>05/08/2019 06:20:00 PM</td>\n",
       "      <td>May 2019</td>\n",
       "      <td>05/02/2017</td>\n",
       "      <td>Rto-Adopt</td>\n",
       "      <td>NaN</td>\n",
       "      <td>Cat</td>\n",
       "      <td>Neutered Male</td>\n",
       "      <td>2 years</td>\n",
       "      <td>Domestic Shorthair Mix</td>\n",
       "      <td>Brown Tabby/White</td>\n",
       "    </tr>\n",
       "    <tr>\n",
       "      <th>1</th>\n",
       "      <td>A776359</td>\n",
       "      <td>Gizmo</td>\n",
       "      <td>07/18/2018 04:02:00 PM</td>\n",
       "      <td>Jul 2018</td>\n",
       "      <td>07/12/2017</td>\n",
       "      <td>Adoption</td>\n",
       "      <td>NaN</td>\n",
       "      <td>Dog</td>\n",
       "      <td>Neutered Male</td>\n",
       "      <td>1 year</td>\n",
       "      <td>Chihuahua Shorthair Mix</td>\n",
       "      <td>White/Brown</td>\n",
       "    </tr>\n",
       "    <tr>\n",
       "      <th>2</th>\n",
       "      <td>A821648</td>\n",
       "      <td>NaN</td>\n",
       "      <td>08/16/2020 11:38:00 AM</td>\n",
       "      <td>Aug 2020</td>\n",
       "      <td>08/16/2019</td>\n",
       "      <td>Euthanasia</td>\n",
       "      <td>NaN</td>\n",
       "      <td>Other</td>\n",
       "      <td>Unknown</td>\n",
       "      <td>1 year</td>\n",
       "      <td>Raccoon</td>\n",
       "      <td>Gray</td>\n",
       "    </tr>\n",
       "    <tr>\n",
       "      <th>3</th>\n",
       "      <td>A720371</td>\n",
       "      <td>Moose</td>\n",
       "      <td>02/13/2016 05:59:00 PM</td>\n",
       "      <td>Feb 2016</td>\n",
       "      <td>10/08/2015</td>\n",
       "      <td>Adoption</td>\n",
       "      <td>NaN</td>\n",
       "      <td>Dog</td>\n",
       "      <td>Neutered Male</td>\n",
       "      <td>4 months</td>\n",
       "      <td>Anatol Shepherd/Labrador Retriever</td>\n",
       "      <td>Buff</td>\n",
       "    </tr>\n",
       "    <tr>\n",
       "      <th>4</th>\n",
       "      <td>A674754</td>\n",
       "      <td>NaN</td>\n",
       "      <td>03/18/2014 11:47:00 AM</td>\n",
       "      <td>Mar 2014</td>\n",
       "      <td>03/12/2014</td>\n",
       "      <td>Transfer</td>\n",
       "      <td>Partner</td>\n",
       "      <td>Cat</td>\n",
       "      <td>Intact Male</td>\n",
       "      <td>6 days</td>\n",
       "      <td>Domestic Shorthair Mix</td>\n",
       "      <td>Orange Tabby</td>\n",
       "    </tr>\n",
       "    <tr>\n",
       "      <th>...</th>\n",
       "      <td>...</td>\n",
       "      <td>...</td>\n",
       "      <td>...</td>\n",
       "      <td>...</td>\n",
       "      <td>...</td>\n",
       "      <td>...</td>\n",
       "      <td>...</td>\n",
       "      <td>...</td>\n",
       "      <td>...</td>\n",
       "      <td>...</td>\n",
       "      <td>...</td>\n",
       "      <td>...</td>\n",
       "    </tr>\n",
       "    <tr>\n",
       "      <th>162846</th>\n",
       "      <td>A905676</td>\n",
       "      <td>NaN</td>\n",
       "      <td>05/27/2024 11:06:00 AM</td>\n",
       "      <td>May 2024</td>\n",
       "      <td>03/23/2024</td>\n",
       "      <td>Euthanasia</td>\n",
       "      <td>Suffering</td>\n",
       "      <td>Cat</td>\n",
       "      <td>Unknown</td>\n",
       "      <td>2 months</td>\n",
       "      <td>Domestic Shorthair</td>\n",
       "      <td>Brown Tabby</td>\n",
       "    </tr>\n",
       "    <tr>\n",
       "      <th>162847</th>\n",
       "      <td>A905707</td>\n",
       "      <td>A905707</td>\n",
       "      <td>05/24/2024 11:38:00 AM</td>\n",
       "      <td>May 2024</td>\n",
       "      <td>12/24/2019</td>\n",
       "      <td>Transfer</td>\n",
       "      <td>Partner</td>\n",
       "      <td>Dog</td>\n",
       "      <td>Intact Male</td>\n",
       "      <td>4 years</td>\n",
       "      <td>Shih Tzu</td>\n",
       "      <td>White</td>\n",
       "    </tr>\n",
       "    <tr>\n",
       "      <th>162848</th>\n",
       "      <td>A904449</td>\n",
       "      <td>*Noodle Soup</td>\n",
       "      <td>05/26/2024 10:29:00 AM</td>\n",
       "      <td>May 2024</td>\n",
       "      <td>03/10/2023</td>\n",
       "      <td>Transfer</td>\n",
       "      <td>Partner</td>\n",
       "      <td>Dog</td>\n",
       "      <td>Intact Male</td>\n",
       "      <td>1 year</td>\n",
       "      <td>Boxer</td>\n",
       "      <td>Brown/Brown</td>\n",
       "    </tr>\n",
       "    <tr>\n",
       "      <th>162849</th>\n",
       "      <td>A905198</td>\n",
       "      <td>NaN</td>\n",
       "      <td>05/26/2024 05:35:00 PM</td>\n",
       "      <td>May 2024</td>\n",
       "      <td>04/26/2024</td>\n",
       "      <td>Transfer</td>\n",
       "      <td>Partner</td>\n",
       "      <td>Cat</td>\n",
       "      <td>Intact Female</td>\n",
       "      <td>4 weeks</td>\n",
       "      <td>Domestic Medium Hair</td>\n",
       "      <td>Brown Tabby</td>\n",
       "    </tr>\n",
       "    <tr>\n",
       "      <th>162850</th>\n",
       "      <td>A905197</td>\n",
       "      <td>NaN</td>\n",
       "      <td>05/26/2024 05:34:00 PM</td>\n",
       "      <td>May 2024</td>\n",
       "      <td>04/26/2024</td>\n",
       "      <td>Transfer</td>\n",
       "      <td>Partner</td>\n",
       "      <td>Cat</td>\n",
       "      <td>Intact Male</td>\n",
       "      <td>4 weeks</td>\n",
       "      <td>Domestic Medium Hair</td>\n",
       "      <td>Orange Tabby/White</td>\n",
       "    </tr>\n",
       "  </tbody>\n",
       "</table>\n",
       "<p>162827 rows × 12 columns</p>\n",
       "</div>"
      ],
      "text/plain": [
       "       Animal ID          Name                DateTime MonthYear  \\\n",
       "0        A794011         Chunk  05/08/2019 06:20:00 PM  May 2019   \n",
       "1        A776359         Gizmo  07/18/2018 04:02:00 PM  Jul 2018   \n",
       "2        A821648           NaN  08/16/2020 11:38:00 AM  Aug 2020   \n",
       "3        A720371         Moose  02/13/2016 05:59:00 PM  Feb 2016   \n",
       "4        A674754           NaN  03/18/2014 11:47:00 AM  Mar 2014   \n",
       "...          ...           ...                     ...       ...   \n",
       "162846   A905676           NaN  05/27/2024 11:06:00 AM  May 2024   \n",
       "162847   A905707       A905707  05/24/2024 11:38:00 AM  May 2024   \n",
       "162848   A904449  *Noodle Soup  05/26/2024 10:29:00 AM  May 2024   \n",
       "162849   A905198           NaN  05/26/2024 05:35:00 PM  May 2024   \n",
       "162850   A905197           NaN  05/26/2024 05:34:00 PM  May 2024   \n",
       "\n",
       "       Date of Birth Outcome Type Outcome Subtype Animal Type  \\\n",
       "0         05/02/2017    Rto-Adopt             NaN         Cat   \n",
       "1         07/12/2017     Adoption             NaN         Dog   \n",
       "2         08/16/2019   Euthanasia             NaN       Other   \n",
       "3         10/08/2015     Adoption             NaN         Dog   \n",
       "4         03/12/2014     Transfer         Partner         Cat   \n",
       "...              ...          ...             ...         ...   \n",
       "162846    03/23/2024   Euthanasia       Suffering         Cat   \n",
       "162847    12/24/2019     Transfer         Partner         Dog   \n",
       "162848    03/10/2023     Transfer         Partner         Dog   \n",
       "162849    04/26/2024     Transfer         Partner         Cat   \n",
       "162850    04/26/2024     Transfer         Partner         Cat   \n",
       "\n",
       "       Sex upon Outcome Age upon Outcome                               Breed  \\\n",
       "0         Neutered Male          2 years              Domestic Shorthair Mix   \n",
       "1         Neutered Male           1 year             Chihuahua Shorthair Mix   \n",
       "2               Unknown           1 year                             Raccoon   \n",
       "3         Neutered Male         4 months  Anatol Shepherd/Labrador Retriever   \n",
       "4           Intact Male           6 days              Domestic Shorthair Mix   \n",
       "...                 ...              ...                                 ...   \n",
       "162846          Unknown         2 months                  Domestic Shorthair   \n",
       "162847      Intact Male          4 years                            Shih Tzu   \n",
       "162848      Intact Male           1 year                               Boxer   \n",
       "162849    Intact Female          4 weeks                Domestic Medium Hair   \n",
       "162850      Intact Male          4 weeks                Domestic Medium Hair   \n",
       "\n",
       "                     Color  \n",
       "0        Brown Tabby/White  \n",
       "1              White/Brown  \n",
       "2                     Gray  \n",
       "3                     Buff  \n",
       "4             Orange Tabby  \n",
       "...                    ...  \n",
       "162846         Brown Tabby  \n",
       "162847               White  \n",
       "162848         Brown/Brown  \n",
       "162849         Brown Tabby  \n",
       "162850  Orange Tabby/White  \n",
       "\n",
       "[162827 rows x 12 columns]"
      ]
     },
     "execution_count": 5,
     "metadata": {},
     "output_type": "execute_result"
    }
   ],
   "source": [
    "austin_df.drop_duplicates()"
   ]
  },
  {
   "cell_type": "markdown",
   "id": "c6997d1d-1f32-4d64-996b-e84d732cb586",
   "metadata": {},
   "source": [
    "### Establish the beginning and end of the data collection ###\n",
    "Have the date information separated. \n",
    "1. Find Min record in\n",
    "2.  Find Max record in"
   ]
  },
  {
   "cell_type": "code",
   "execution_count": 8,
   "id": "9764533f-e2f1-4784-8478-a82ab098c9dc",
   "metadata": {},
   "outputs": [],
   "source": [
    "austin_df['Date In'] = austin_df['DateTime'].apply(lambda x: x[0:10])"
   ]
  },
  {
   "cell_type": "code",
   "execution_count": 10,
   "id": "47cdef16-e0c9-49fe-9229-0e38f6cd2fd2",
   "metadata": {},
   "outputs": [
    {
     "data": {
      "text/plain": [
       "'01/01/2014'"
      ]
     },
     "execution_count": 10,
     "metadata": {},
     "output_type": "execute_result"
    }
   ],
   "source": [
    "min_date_in = austin_df['Date In'].min()\n",
    "min_date_in"
   ]
  },
  {
   "cell_type": "code",
   "execution_count": 12,
   "id": "5cf72bb0-b9e0-444c-8ca4-5e1e3d454f59",
   "metadata": {},
   "outputs": [
    {
     "data": {
      "text/plain": [
       "'12/31/2023'"
      ]
     },
     "execution_count": 12,
     "metadata": {},
     "output_type": "execute_result"
    }
   ],
   "source": [
    "max_date_in = austin_df['Date In'].max()\n",
    "max_date_in"
   ]
  },
  {
   "cell_type": "markdown",
   "id": "54a61ddd-5338-4f25-b1ac-3debc4a1054e",
   "metadata": {},
   "source": [
    "### Questions ### \n",
    "1. What are the different outcome types? \n",
    "2. How are they labeled?"
   ]
  },
  {
   "cell_type": "code",
   "execution_count": 15,
   "id": "f060010a-01f1-450a-8565-147746700aa2",
   "metadata": {},
   "outputs": [
    {
     "data": {
      "text/plain": [
       "Outcome Type\n",
       "Adoption           77631\n",
       "Transfer           46438\n",
       "Return to Owner    24906\n",
       "Euthanasia         10241\n",
       "Died                1539\n",
       "Rto-Adopt           1149\n",
       "Disposal             791\n",
       "Missing               86\n",
       "Relocate              27\n",
       "Stolen                 5\n",
       "Lost                   2\n",
       "Name: count, dtype: int64"
      ]
     },
     "execution_count": 15,
     "metadata": {},
     "output_type": "execute_result"
    }
   ],
   "source": [
    "unique_value_outcome = austin_df['Outcome Type'].value_counts()\n",
    "unique_value_outcome"
   ]
  },
  {
   "cell_type": "markdown",
   "id": "3a288d5f-892b-4769-bee9-8d35286533ab",
   "metadata": {},
   "source": [
    "**Euthanasia cases- 10241 over a 10 year span**.  \n",
    "Top types include:\n",
    "1. **Adoption**- 77,631\n",
    "2. **Transfer**- 46,438\n",
    "3. **Return to Owner**- 24,906\n"
   ]
  },
  {
   "cell_type": "code",
   "execution_count": 18,
   "id": "54d741a7-18e6-4c96-a8c6-23d62c5881d6",
   "metadata": {},
   "outputs": [
    {
     "data": {
      "text/plain": [
       "<Axes: >"
      ]
     },
     "execution_count": 18,
     "metadata": {},
     "output_type": "execute_result"
    },
    {
     "data": {
      "image/png": "[encoded data removed]",
      "text/plain": [
       "<Figure size 1500x500 with 1 Axes>"
      ]
     },
     "metadata": {},
     "output_type": "display_data"
    }
   ],
   "source": [
    "austin_df['Outcome Type'].hist(bins = 50, figsize = (15, 5))"
   ]
  },
  {
   "cell_type": "markdown",
   "id": "fb815cc6-25ce-49da-8fb4-3e427d96cb38",
   "metadata": {},
   "source": [
    "### AVG Breakdown of top 4 Outcome Types over Data Set ###"
   ]
  },
  {
   "cell_type": "code",
   "execution_count": 21,
   "id": "7fa693ef-1263-4482-89a0-98edf6d9d033",
   "metadata": {},
   "outputs": [
    {
     "data": {
      "text/plain": [
       "8.534166666666666"
      ]
     },
     "execution_count": 21,
     "metadata": {},
     "output_type": "execute_result"
    }
   ],
   "source": [
    "10241 / 1200 #1200 months or 10 yr Avg Euthanasia"
   ]
  },
  {
   "cell_type": "code",
   "execution_count": 23,
   "id": "5c776bc7-dd8a-45ba-87fa-9bbee449e2bb",
   "metadata": {},
   "outputs": [
    {
     "data": {
      "text/plain": [
       "64.6925"
      ]
     },
     "execution_count": 23,
     "metadata": {},
     "output_type": "execute_result"
    }
   ],
   "source": [
    "77631 / 1200 #Adoptions per month or 10 yr Avg"
   ]
  },
  {
   "cell_type": "code",
   "execution_count": 25,
   "id": "0cf9a24b-98f8-4080-af24-8d91a1918ce0",
   "metadata": {},
   "outputs": [
    {
     "data": {
      "text/plain": [
       "38.69833333333333"
      ]
     },
     "execution_count": 25,
     "metadata": {},
     "output_type": "execute_result"
    }
   ],
   "source": [
    "46438 / 1200 # Transfers per month or 10 yr Avg"
   ]
  },
  {
   "cell_type": "code",
   "execution_count": 27,
   "id": "fe2aa03d-96ac-4005-9b5f-0d132ee1bcb3",
   "metadata": {},
   "outputs": [
    {
     "data": {
      "text/plain": [
       "20.755"
      ]
     },
     "execution_count": 27,
     "metadata": {},
     "output_type": "execute_result"
    }
   ],
   "source": [
    "24906 / 1200 #Return to Owner per month or 10 yr Avg"
   ]
  },
  {
   "cell_type": "code",
   "execution_count": 33,
   "id": "a59b9db1-a8ae-48f3-8dc8-704e22a4cb27",
   "metadata": {},
   "outputs": [
    {
     "data": {
      "image/png": "[encoded data removed]",
      "text/plain": [
       "<Figure size 800x300 with 1 Axes>"
      ]
     },
     "metadata": {},
     "output_type": "display_data"
    }
   ],
   "source": [
    "top_avg_outcomes_df = {\n",
    "    'Euthanasia': 9,\n",
    "    'Adoptions': 65,\n",
    "    'Transfers': 39,\n",
    "    'Return to Owner': 21 \n",
    "}\n",
    "\n",
    "outcome = list(top_avg_outcomes_df.keys())\n",
    "counts = list(top_avg_outcomes_df.values())\n",
    "\n",
    "plt.figure(figsize=(8, 3))\n",
    "plt.bar(outcome, counts, color='navy')\n",
    "plt.xlabel('')\n",
    "plt.ylabel('')\n",
    "plt.title('Top Outcome Avg')\n",
    "plt.xticks(rotation=45)  \n",
    "plt.show()"
   ]
  },
  {
   "cell_type": "markdown",
   "id": "096c745a-88bd-4d8a-bf4e-bc222d8f1581",
   "metadata": {},
   "source": [
    "### Questions ###\n",
    "1. What are the different **Animal Types?**  \n",
    "2. What are the different **Outcome Sub-types** for Euthanized animals? "
   ]
  },
  {
   "cell_type": "code",
   "execution_count": 36,
   "id": "27ff4a02-d1e7-4798-978a-fd66922fa4bc",
   "metadata": {},
   "outputs": [
    {
     "data": {
      "text/plain": [
       "Animal Type\n",
       "Dog          89748\n",
       "Cat          63775\n",
       "Other         8485\n",
       "Bird           815\n",
       "Livestock       28\n",
       "Name: count, dtype: int64"
      ]
     },
     "execution_count": 36,
     "metadata": {},
     "output_type": "execute_result"
    }
   ],
   "source": [
    "unique_value_animal_type = austin_df['Animal Type'].value_counts() \n",
    "unique_value_animal_type"
   ]
  },
  {
   "cell_type": "code",
   "execution_count": 38,
   "id": "5a59ade6-6c19-428f-9293-cf86b1c9630e",
   "metadata": {},
   "outputs": [
    {
     "data": {
      "text/plain": [
       "<Axes: >"
      ]
     },
     "execution_count": 38,
     "metadata": {},
     "output_type": "execute_result"
    },
    {
     "data": {
      "image/png": "[encoded data removed]",
      "text/plain": [
       "<Figure size 1000x250 with 1 Axes>"
      ]
     },
     "metadata": {},
     "output_type": "display_data"
    }
   ],
   "source": [
    "austin_df['Animal Type'].hist(bins = 50, figsize = (10, 2.5))                            "
   ]
  },
  {
   "cell_type": "markdown",
   "id": "bec05a0f-0a22-4943-8859-49b13b10b365",
   "metadata": {},
   "source": [
    "### Dogs ###  \n",
    "89,748 records "
   ]
  },
  {
   "cell_type": "code",
   "execution_count": 41,
   "id": "9a3f9624-fd31-40d9-82e3-de4494dbd551",
   "metadata": {},
   "outputs": [
    {
     "data": {
      "text/html": [
       "<div>\n",
       "<style scoped>\n",
       "    .dataframe tbody tr th:only-of-type {\n",
       "        vertical-align: middle;\n",
       "    }\n",
       "\n",
       "    .dataframe tbody tr th {\n",
       "        vertical-align: top;\n",
       "    }\n",
       "\n",
       "    .dataframe thead th {\n",
       "        text-align: right;\n",
       "    }\n",
       "</style>\n",
       "<table border=\"1\" class=\"dataframe\">\n",
       "  <thead>\n",
       "    <tr style=\"text-align: right;\">\n",
       "      <th></th>\n",
       "      <th>Animal ID</th>\n",
       "      <th>Name</th>\n",
       "      <th>DateTime</th>\n",
       "      <th>MonthYear</th>\n",
       "      <th>Date of Birth</th>\n",
       "      <th>Outcome Type</th>\n",
       "      <th>Outcome Subtype</th>\n",
       "      <th>Animal Type</th>\n",
       "      <th>Sex upon Outcome</th>\n",
       "      <th>Age upon Outcome</th>\n",
       "      <th>Breed</th>\n",
       "      <th>Color</th>\n",
       "      <th>Date In</th>\n",
       "    </tr>\n",
       "  </thead>\n",
       "  <tbody>\n",
       "    <tr>\n",
       "      <th>156</th>\n",
       "      <td>A661916</td>\n",
       "      <td>Bella</td>\n",
       "      <td>04/02/2014 05:42:00 PM</td>\n",
       "      <td>Apr 2014</td>\n",
       "      <td>08/27/2011</td>\n",
       "      <td>Euthanasia</td>\n",
       "      <td>Aggressive</td>\n",
       "      <td>Dog</td>\n",
       "      <td>Spayed Female</td>\n",
       "      <td>2 years</td>\n",
       "      <td>Pit Bull Mix</td>\n",
       "      <td>White/Brown</td>\n",
       "      <td>04/02/2014</td>\n",
       "    </tr>\n",
       "    <tr>\n",
       "      <th>174</th>\n",
       "      <td>A698183</td>\n",
       "      <td>*Eleanor</td>\n",
       "      <td>03/12/2015 04:13:00 PM</td>\n",
       "      <td>Mar 2015</td>\n",
       "      <td>03/06/2013</td>\n",
       "      <td>Euthanasia</td>\n",
       "      <td>Suffering</td>\n",
       "      <td>Dog</td>\n",
       "      <td>Intact Female</td>\n",
       "      <td>2 years</td>\n",
       "      <td>Pit Bull Mix</td>\n",
       "      <td>Brown Brindle</td>\n",
       "      <td>03/12/2015</td>\n",
       "    </tr>\n",
       "    <tr>\n",
       "      <th>481</th>\n",
       "      <td>A678485</td>\n",
       "      <td>Money</td>\n",
       "      <td>05/09/2014 04:16:00 PM</td>\n",
       "      <td>May 2014</td>\n",
       "      <td>05/09/2000</td>\n",
       "      <td>Euthanasia</td>\n",
       "      <td>Suffering</td>\n",
       "      <td>Dog</td>\n",
       "      <td>Intact Male</td>\n",
       "      <td>14 years</td>\n",
       "      <td>Pit Bull Mix</td>\n",
       "      <td>Brown Brindle</td>\n",
       "      <td>05/09/2014</td>\n",
       "    </tr>\n",
       "    <tr>\n",
       "      <th>486</th>\n",
       "      <td>A688196</td>\n",
       "      <td>Max</td>\n",
       "      <td>09/16/2014 12:20:00 PM</td>\n",
       "      <td>Sep 2014</td>\n",
       "      <td>09/16/2005</td>\n",
       "      <td>Euthanasia</td>\n",
       "      <td>Suffering</td>\n",
       "      <td>Dog</td>\n",
       "      <td>Neutered Male</td>\n",
       "      <td>9 years</td>\n",
       "      <td>Jack Russell Terrier Mix</td>\n",
       "      <td>Chocolate/White</td>\n",
       "      <td>09/16/2014</td>\n",
       "    </tr>\n",
       "    <tr>\n",
       "      <th>617</th>\n",
       "      <td>A739086</td>\n",
       "      <td>Jojo</td>\n",
       "      <td>11/27/2016 06:08:00 PM</td>\n",
       "      <td>Nov 2016</td>\n",
       "      <td>11/27/2014</td>\n",
       "      <td>Euthanasia</td>\n",
       "      <td>Suffering</td>\n",
       "      <td>Dog</td>\n",
       "      <td>Intact Male</td>\n",
       "      <td>2 years</td>\n",
       "      <td>Labrador Retriever Mix</td>\n",
       "      <td>Brown</td>\n",
       "      <td>11/27/2016</td>\n",
       "    </tr>\n",
       "    <tr>\n",
       "      <th>...</th>\n",
       "      <td>...</td>\n",
       "      <td>...</td>\n",
       "      <td>...</td>\n",
       "      <td>...</td>\n",
       "      <td>...</td>\n",
       "      <td>...</td>\n",
       "      <td>...</td>\n",
       "      <td>...</td>\n",
       "      <td>...</td>\n",
       "      <td>...</td>\n",
       "      <td>...</td>\n",
       "      <td>...</td>\n",
       "      <td>...</td>\n",
       "    </tr>\n",
       "    <tr>\n",
       "      <th>162166</th>\n",
       "      <td>A900727</td>\n",
       "      <td>Fidget</td>\n",
       "      <td>05/08/2024 11:50:00 AM</td>\n",
       "      <td>May 2024</td>\n",
       "      <td>03/24/2021</td>\n",
       "      <td>Euthanasia</td>\n",
       "      <td>Court/Investigation</td>\n",
       "      <td>Dog</td>\n",
       "      <td>Intact Male</td>\n",
       "      <td>3 years</td>\n",
       "      <td>Pit Bull</td>\n",
       "      <td>Tan/White</td>\n",
       "      <td>05/08/2024</td>\n",
       "    </tr>\n",
       "    <tr>\n",
       "      <th>162418</th>\n",
       "      <td>A904025</td>\n",
       "      <td>Rio</td>\n",
       "      <td>05/15/2024 02:10:00 PM</td>\n",
       "      <td>May 2024</td>\n",
       "      <td>05/06/2022</td>\n",
       "      <td>Euthanasia</td>\n",
       "      <td>At Vet</td>\n",
       "      <td>Dog</td>\n",
       "      <td>Intact Male</td>\n",
       "      <td>2 years</td>\n",
       "      <td>Labrador Retriever</td>\n",
       "      <td>Black</td>\n",
       "      <td>05/15/2024</td>\n",
       "    </tr>\n",
       "    <tr>\n",
       "      <th>162447</th>\n",
       "      <td>A903946</td>\n",
       "      <td>NaN</td>\n",
       "      <td>05/16/2024 11:36:00 AM</td>\n",
       "      <td>May 2024</td>\n",
       "      <td>11/05/2022</td>\n",
       "      <td>Euthanasia</td>\n",
       "      <td>Suffering</td>\n",
       "      <td>Dog</td>\n",
       "      <td>Intact Male</td>\n",
       "      <td>1 year</td>\n",
       "      <td>Labrador Retriever Mix</td>\n",
       "      <td>Tan</td>\n",
       "      <td>05/16/2024</td>\n",
       "    </tr>\n",
       "    <tr>\n",
       "      <th>162669</th>\n",
       "      <td>A905141</td>\n",
       "      <td>NaN</td>\n",
       "      <td>05/21/2024 06:19:00 PM</td>\n",
       "      <td>May 2024</td>\n",
       "      <td>11/17/2023</td>\n",
       "      <td>Euthanasia</td>\n",
       "      <td>Suffering</td>\n",
       "      <td>Dog</td>\n",
       "      <td>Intact Male</td>\n",
       "      <td>6 months</td>\n",
       "      <td>Labrador Retriever</td>\n",
       "      <td>Black</td>\n",
       "      <td>05/21/2024</td>\n",
       "    </tr>\n",
       "    <tr>\n",
       "      <th>162710</th>\n",
       "      <td>A903837</td>\n",
       "      <td>*Bastian</td>\n",
       "      <td>05/07/2024 10:25:00 AM</td>\n",
       "      <td>May 2024</td>\n",
       "      <td>05/03/2018</td>\n",
       "      <td>Euthanasia</td>\n",
       "      <td>Suffering</td>\n",
       "      <td>Dog</td>\n",
       "      <td>Intact Male</td>\n",
       "      <td>6 years</td>\n",
       "      <td>Siberian Husky</td>\n",
       "      <td>Black/White</td>\n",
       "      <td>05/07/2024</td>\n",
       "    </tr>\n",
       "  </tbody>\n",
       "</table>\n",
       "<p>2085 rows × 13 columns</p>\n",
       "</div>"
      ],
      "text/plain": [
       "       Animal ID      Name                DateTime MonthYear Date of Birth  \\\n",
       "156      A661916     Bella  04/02/2014 05:42:00 PM  Apr 2014    08/27/2011   \n",
       "174      A698183  *Eleanor  03/12/2015 04:13:00 PM  Mar 2015    03/06/2013   \n",
       "481      A678485     Money  05/09/2014 04:16:00 PM  May 2014    05/09/2000   \n",
       "486      A688196       Max  09/16/2014 12:20:00 PM  Sep 2014    09/16/2005   \n",
       "617      A739086      Jojo  11/27/2016 06:08:00 PM  Nov 2016    11/27/2014   \n",
       "...          ...       ...                     ...       ...           ...   \n",
       "162166   A900727    Fidget  05/08/2024 11:50:00 AM  May 2024    03/24/2021   \n",
       "162418   A904025       Rio  05/15/2024 02:10:00 PM  May 2024    05/06/2022   \n",
       "162447   A903946       NaN  05/16/2024 11:36:00 AM  May 2024    11/05/2022   \n",
       "162669   A905141       NaN  05/21/2024 06:19:00 PM  May 2024    11/17/2023   \n",
       "162710   A903837  *Bastian  05/07/2024 10:25:00 AM  May 2024    05/03/2018   \n",
       "\n",
       "       Outcome Type      Outcome Subtype Animal Type Sex upon Outcome  \\\n",
       "156      Euthanasia           Aggressive         Dog    Spayed Female   \n",
       "174      Euthanasia            Suffering         Dog    Intact Female   \n",
       "481      Euthanasia            Suffering         Dog      Intact Male   \n",
       "486      Euthanasia            Suffering         Dog    Neutered Male   \n",
       "617      Euthanasia            Suffering         Dog      Intact Male   \n",
       "...             ...                  ...         ...              ...   \n",
       "162166   Euthanasia  Court/Investigation         Dog      Intact Male   \n",
       "162418   Euthanasia               At Vet         Dog      Intact Male   \n",
       "162447   Euthanasia            Suffering         Dog      Intact Male   \n",
       "162669   Euthanasia            Suffering         Dog      Intact Male   \n",
       "162710   Euthanasia            Suffering         Dog      Intact Male   \n",
       "\n",
       "       Age upon Outcome                     Breed            Color     Date In  \n",
       "156             2 years              Pit Bull Mix      White/Brown  04/02/2014  \n",
       "174             2 years              Pit Bull Mix    Brown Brindle  03/12/2015  \n",
       "481            14 years              Pit Bull Mix    Brown Brindle  05/09/2014  \n",
       "486             9 years  Jack Russell Terrier Mix  Chocolate/White  09/16/2014  \n",
       "617             2 years    Labrador Retriever Mix            Brown  11/27/2016  \n",
       "...                 ...                       ...              ...         ...  \n",
       "162166          3 years                  Pit Bull        Tan/White  05/08/2024  \n",
       "162418          2 years        Labrador Retriever            Black  05/15/2024  \n",
       "162447           1 year    Labrador Retriever Mix              Tan  05/16/2024  \n",
       "162669         6 months        Labrador Retriever            Black  05/21/2024  \n",
       "162710          6 years            Siberian Husky      Black/White  05/07/2024  \n",
       "\n",
       "[2085 rows x 13 columns]"
      ]
     },
     "execution_count": 41,
     "metadata": {},
     "output_type": "execute_result"
    }
   ],
   "source": [
    "dog_euthanasia_df = austin_df[(austin_df['Animal Type'] == 'Dog') & (austin_df['Outcome Type'] == 'Euthanasia')]\n",
    "dog_euthanasia_df"
   ]
  },
  {
   "cell_type": "code",
   "execution_count": 43,
   "id": "3b5354bd-abaf-41ff-8dc6-7ebc8d310f8c",
   "metadata": {},
   "outputs": [
    {
     "data": {
      "text/plain": [
       "55.11862283282256"
      ]
     },
     "execution_count": 43,
     "metadata": {},
     "output_type": "execute_result"
    }
   ],
   "source": [
    "89748 / 162827 *100 #percentage of dog records within the data"
   ]
  },
  {
   "cell_type": "code",
   "execution_count": 45,
   "id": "d82704f0-1e8c-4bf0-ad96-bbb412826140",
   "metadata": {},
   "outputs": [
    {
     "data": {
      "text/plain": [
       "1.280500162749421"
      ]
     },
     "execution_count": 45,
     "metadata": {},
     "output_type": "execute_result"
    }
   ],
   "source": [
    "2085 / 162827 *100 #percentage of dog euthanasia records within the data"
   ]
  },
  {
   "cell_type": "code",
   "execution_count": 47,
   "id": "fbb0c986-5a1f-4bb3-8d61-25356388b686",
   "metadata": {},
   "outputs": [
    {
     "data": {
      "text/plain": [
       "Breed\n",
       "Pit Bull Mix               507\n",
       "Chihuahua Shorthair Mix    168\n",
       "Labrador Retriever Mix     155\n",
       "Pit Bull                    95\n",
       "German Shepherd Mix         73\n",
       "Name: count, dtype: int64"
      ]
     },
     "execution_count": 47,
     "metadata": {},
     "output_type": "execute_result"
    }
   ],
   "source": [
    "dog_breed = dog_euthanasia_df['Breed'].value_counts()\n",
    "dog_breed_top_results = dog_breed.head(5)\n",
    "dog_breed_top_results "
   ]
  },
  {
   "cell_type": "code",
   "execution_count": 49,
   "id": "c8f77392-51f7-4213-aa09-d0a4efc88f42",
   "metadata": {},
   "outputs": [
    {
     "data": {
      "text/plain": [
       "Outcome Subtype\n",
       "Suffering              974\n",
       "Aggressive             595\n",
       "Behavior               166\n",
       "Rabies Risk            100\n",
       "Medical                 83\n",
       "At Vet                  82\n",
       "Court/Investigation     76\n",
       "Name: count, dtype: int64"
      ]
     },
     "execution_count": 49,
     "metadata": {},
     "output_type": "execute_result"
    }
   ],
   "source": [
    "dog_euthanasia_df = austin_df[(austin_df['Animal Type'] == 'Dog') & (austin_df['Outcome Type'] == 'Euthanasia')]\n",
    "unique_outcome_subtypes = dog_euthanasia_df['Outcome Subtype'].unique()\n",
    "outcome_subtype_counts_dog = dog_euthanasia_df['Outcome Subtype'].value_counts()\n",
    "outcome_subtype_counts_dog"
   ]
  },
  {
   "cell_type": "code",
   "execution_count": 51,
   "id": "b0f786ed-f207-46a7-ba6c-e217ba16ed01",
   "metadata": {},
   "outputs": [
    {
     "data": {
      "image/png": "[encoded data removed]",
      "text/plain": [
       "<Figure size 800x300 with 1 Axes>"
      ]
     },
     "metadata": {},
     "output_type": "display_data"
    }
   ],
   "source": [
    "outcome_subtype_counts_dog = {\n",
    "    'Suffering': 974,\n",
    "    'Aggressive': 595,\n",
    "    'Behavior': 166,\n",
    "    'Rabbies Risk': 100,\n",
    "    'Medical': 83,\n",
    "    'At Vet': 82,\n",
    "    'Court/Investigation': 76\n",
    "}\n",
    "\n",
    "outcome = list(outcome_subtype_counts_dog.keys())\n",
    "counts = list(outcome_subtype_counts_dog.values())\n",
    "\n",
    "plt.figure(figsize=(8, 3))\n",
    "plt.bar(outcome, counts, color='navy')\n",
    "plt.xlabel('')\n",
    "plt.ylabel('')\n",
    "plt.title('Dogs')\n",
    "plt.xticks(rotation=45)  \n",
    "plt.show()"
   ]
  },
  {
   "cell_type": "markdown",
   "id": "e496c6e1-e630-4078-bdf6-0676bbc3f07f",
   "metadata": {},
   "source": [
    "### Cats ###  \n",
    "63,775 records"
   ]
  },
  {
   "cell_type": "code",
   "execution_count": 54,
   "id": "1a91ad16-4bb1-4b90-8e90-be410dc7ed13",
   "metadata": {},
   "outputs": [
    {
     "data": {
      "text/html": [
       "<div>\n",
       "<style scoped>\n",
       "    .dataframe tbody tr th:only-of-type {\n",
       "        vertical-align: middle;\n",
       "    }\n",
       "\n",
       "    .dataframe tbody tr th {\n",
       "        vertical-align: top;\n",
       "    }\n",
       "\n",
       "    .dataframe thead th {\n",
       "        text-align: right;\n",
       "    }\n",
       "</style>\n",
       "<table border=\"1\" class=\"dataframe\">\n",
       "  <thead>\n",
       "    <tr style=\"text-align: right;\">\n",
       "      <th></th>\n",
       "      <th>Animal ID</th>\n",
       "      <th>Name</th>\n",
       "      <th>DateTime</th>\n",
       "      <th>MonthYear</th>\n",
       "      <th>Date of Birth</th>\n",
       "      <th>Outcome Type</th>\n",
       "      <th>Outcome Subtype</th>\n",
       "      <th>Animal Type</th>\n",
       "      <th>Sex upon Outcome</th>\n",
       "      <th>Age upon Outcome</th>\n",
       "      <th>Breed</th>\n",
       "      <th>Color</th>\n",
       "      <th>Date In</th>\n",
       "    </tr>\n",
       "  </thead>\n",
       "  <tbody>\n",
       "    <tr>\n",
       "      <th>19</th>\n",
       "      <td>A773792</td>\n",
       "      <td>NaN</td>\n",
       "      <td>06/05/2018 03:30:00 PM</td>\n",
       "      <td>Jun 2018</td>\n",
       "      <td>05/05/2018</td>\n",
       "      <td>Euthanasia</td>\n",
       "      <td>Suffering</td>\n",
       "      <td>Cat</td>\n",
       "      <td>Intact Male</td>\n",
       "      <td>4 weeks</td>\n",
       "      <td>Domestic Shorthair Mix</td>\n",
       "      <td>Orange Tabby</td>\n",
       "      <td>06/05/2018</td>\n",
       "    </tr>\n",
       "    <tr>\n",
       "      <th>28</th>\n",
       "      <td>A878380</td>\n",
       "      <td>A878380</td>\n",
       "      <td>04/15/2023 10:15:00 AM</td>\n",
       "      <td>Apr 2023</td>\n",
       "      <td>04/11/2021</td>\n",
       "      <td>Euthanasia</td>\n",
       "      <td>Suffering</td>\n",
       "      <td>Cat</td>\n",
       "      <td>Intact Male</td>\n",
       "      <td>2 years</td>\n",
       "      <td>Siamese Mix</td>\n",
       "      <td>Lilac Point</td>\n",
       "      <td>04/15/2023</td>\n",
       "    </tr>\n",
       "    <tr>\n",
       "      <th>41</th>\n",
       "      <td>A699884</td>\n",
       "      <td>NaN</td>\n",
       "      <td>04/03/2015 04:16:00 PM</td>\n",
       "      <td>Apr 2015</td>\n",
       "      <td>04/03/2013</td>\n",
       "      <td>Euthanasia</td>\n",
       "      <td>Suffering</td>\n",
       "      <td>Cat</td>\n",
       "      <td>Unknown</td>\n",
       "      <td>2 years</td>\n",
       "      <td>Domestic Shorthair Mix</td>\n",
       "      <td>Gray</td>\n",
       "      <td>04/03/2015</td>\n",
       "    </tr>\n",
       "    <tr>\n",
       "      <th>133</th>\n",
       "      <td>A782089</td>\n",
       "      <td>NaN</td>\n",
       "      <td>10/10/2018 09:00:00 PM</td>\n",
       "      <td>Oct 2018</td>\n",
       "      <td>10/10/2016</td>\n",
       "      <td>Euthanasia</td>\n",
       "      <td>Suffering</td>\n",
       "      <td>Cat</td>\n",
       "      <td>Intact Female</td>\n",
       "      <td>2 years</td>\n",
       "      <td>Domestic Shorthair Mix</td>\n",
       "      <td>Tan/Black</td>\n",
       "      <td>10/10/2018</td>\n",
       "    </tr>\n",
       "    <tr>\n",
       "      <th>134</th>\n",
       "      <td>A830483</td>\n",
       "      <td>NaN</td>\n",
       "      <td>03/10/2021 12:31:00 PM</td>\n",
       "      <td>Mar 2021</td>\n",
       "      <td>03/10/2020</td>\n",
       "      <td>Euthanasia</td>\n",
       "      <td>Suffering</td>\n",
       "      <td>Cat</td>\n",
       "      <td>Intact Male</td>\n",
       "      <td>1 year</td>\n",
       "      <td>Domestic Shorthair</td>\n",
       "      <td>Seal Point</td>\n",
       "      <td>03/10/2021</td>\n",
       "    </tr>\n",
       "    <tr>\n",
       "      <th>...</th>\n",
       "      <td>...</td>\n",
       "      <td>...</td>\n",
       "      <td>...</td>\n",
       "      <td>...</td>\n",
       "      <td>...</td>\n",
       "      <td>...</td>\n",
       "      <td>...</td>\n",
       "      <td>...</td>\n",
       "      <td>...</td>\n",
       "      <td>...</td>\n",
       "      <td>...</td>\n",
       "      <td>...</td>\n",
       "      <td>...</td>\n",
       "    </tr>\n",
       "    <tr>\n",
       "      <th>162751</th>\n",
       "      <td>A905331</td>\n",
       "      <td>NaN</td>\n",
       "      <td>05/24/2024 10:11:00 AM</td>\n",
       "      <td>May 2024</td>\n",
       "      <td>04/28/2024</td>\n",
       "      <td>Euthanasia</td>\n",
       "      <td>Suffering</td>\n",
       "      <td>Cat</td>\n",
       "      <td>Intact Male</td>\n",
       "      <td>3 weeks</td>\n",
       "      <td>Domestic Shorthair</td>\n",
       "      <td>Blue/White</td>\n",
       "      <td>05/24/2024</td>\n",
       "    </tr>\n",
       "    <tr>\n",
       "      <th>162827</th>\n",
       "      <td>A905092</td>\n",
       "      <td>Kitty Kitty</td>\n",
       "      <td>05/21/2024 04:25:00 PM</td>\n",
       "      <td>May 2024</td>\n",
       "      <td>05/16/2023</td>\n",
       "      <td>Euthanasia</td>\n",
       "      <td>Suffering</td>\n",
       "      <td>Cat</td>\n",
       "      <td>Intact Male</td>\n",
       "      <td>1 year</td>\n",
       "      <td>Domestic Shorthair</td>\n",
       "      <td>Brown Tabby</td>\n",
       "      <td>05/21/2024</td>\n",
       "    </tr>\n",
       "    <tr>\n",
       "      <th>162831</th>\n",
       "      <td>A904792</td>\n",
       "      <td>*Eleanor</td>\n",
       "      <td>05/14/2024 04:28:00 PM</td>\n",
       "      <td>May 2024</td>\n",
       "      <td>04/21/2024</td>\n",
       "      <td>Euthanasia</td>\n",
       "      <td>Suffering</td>\n",
       "      <td>Cat</td>\n",
       "      <td>Intact Female</td>\n",
       "      <td>3 weeks</td>\n",
       "      <td>Domestic Shorthair</td>\n",
       "      <td>Torbie</td>\n",
       "      <td>05/14/2024</td>\n",
       "    </tr>\n",
       "    <tr>\n",
       "      <th>162834</th>\n",
       "      <td>A904704</td>\n",
       "      <td>NaN</td>\n",
       "      <td>05/17/2024 04:28:00 PM</td>\n",
       "      <td>May 2024</td>\n",
       "      <td>05/10/2024</td>\n",
       "      <td>Euthanasia</td>\n",
       "      <td>Suffering</td>\n",
       "      <td>Cat</td>\n",
       "      <td>Unknown</td>\n",
       "      <td>1 week</td>\n",
       "      <td>Domestic Shorthair</td>\n",
       "      <td>Blue</td>\n",
       "      <td>05/17/2024</td>\n",
       "    </tr>\n",
       "    <tr>\n",
       "      <th>162846</th>\n",
       "      <td>A905676</td>\n",
       "      <td>NaN</td>\n",
       "      <td>05/27/2024 11:06:00 AM</td>\n",
       "      <td>May 2024</td>\n",
       "      <td>03/23/2024</td>\n",
       "      <td>Euthanasia</td>\n",
       "      <td>Suffering</td>\n",
       "      <td>Cat</td>\n",
       "      <td>Unknown</td>\n",
       "      <td>2 months</td>\n",
       "      <td>Domestic Shorthair</td>\n",
       "      <td>Brown Tabby</td>\n",
       "      <td>05/27/2024</td>\n",
       "    </tr>\n",
       "  </tbody>\n",
       "</table>\n",
       "<p>2387 rows × 13 columns</p>\n",
       "</div>"
      ],
      "text/plain": [
       "       Animal ID         Name                DateTime MonthYear Date of Birth  \\\n",
       "19       A773792          NaN  06/05/2018 03:30:00 PM  Jun 2018    05/05/2018   \n",
       "28       A878380      A878380  04/15/2023 10:15:00 AM  Apr 2023    04/11/2021   \n",
       "41       A699884          NaN  04/03/2015 04:16:00 PM  Apr 2015    04/03/2013   \n",
       "133      A782089          NaN  10/10/2018 09:00:00 PM  Oct 2018    10/10/2016   \n",
       "134      A830483          NaN  03/10/2021 12:31:00 PM  Mar 2021    03/10/2020   \n",
       "...          ...          ...                     ...       ...           ...   \n",
       "162751   A905331          NaN  05/24/2024 10:11:00 AM  May 2024    04/28/2024   \n",
       "162827   A905092  Kitty Kitty  05/21/2024 04:25:00 PM  May 2024    05/16/2023   \n",
       "162831   A904792     *Eleanor  05/14/2024 04:28:00 PM  May 2024    04/21/2024   \n",
       "162834   A904704          NaN  05/17/2024 04:28:00 PM  May 2024    05/10/2024   \n",
       "162846   A905676          NaN  05/27/2024 11:06:00 AM  May 2024    03/23/2024   \n",
       "\n",
       "       Outcome Type Outcome Subtype Animal Type Sex upon Outcome  \\\n",
       "19       Euthanasia       Suffering         Cat      Intact Male   \n",
       "28       Euthanasia       Suffering         Cat      Intact Male   \n",
       "41       Euthanasia       Suffering         Cat          Unknown   \n",
       "133      Euthanasia       Suffering         Cat    Intact Female   \n",
       "134      Euthanasia       Suffering         Cat      Intact Male   \n",
       "...             ...             ...         ...              ...   \n",
       "162751   Euthanasia       Suffering         Cat      Intact Male   \n",
       "162827   Euthanasia       Suffering         Cat      Intact Male   \n",
       "162831   Euthanasia       Suffering         Cat    Intact Female   \n",
       "162834   Euthanasia       Suffering         Cat          Unknown   \n",
       "162846   Euthanasia       Suffering         Cat          Unknown   \n",
       "\n",
       "       Age upon Outcome                   Breed         Color     Date In  \n",
       "19              4 weeks  Domestic Shorthair Mix  Orange Tabby  06/05/2018  \n",
       "28              2 years             Siamese Mix   Lilac Point  04/15/2023  \n",
       "41              2 years  Domestic Shorthair Mix          Gray  04/03/2015  \n",
       "133             2 years  Domestic Shorthair Mix     Tan/Black  10/10/2018  \n",
       "134              1 year      Domestic Shorthair    Seal Point  03/10/2021  \n",
       "...                 ...                     ...           ...         ...  \n",
       "162751          3 weeks      Domestic Shorthair    Blue/White  05/24/2024  \n",
       "162827           1 year      Domestic Shorthair   Brown Tabby  05/21/2024  \n",
       "162831          3 weeks      Domestic Shorthair        Torbie  05/14/2024  \n",
       "162834           1 week      Domestic Shorthair          Blue  05/17/2024  \n",
       "162846         2 months      Domestic Shorthair   Brown Tabby  05/27/2024  \n",
       "\n",
       "[2387 rows x 13 columns]"
      ]
     },
     "execution_count": 54,
     "metadata": {},
     "output_type": "execute_result"
    }
   ],
   "source": [
    "cat_euthanasia_df = austin_df[(austin_df['Animal Type'] == 'Cat') & (austin_df['Outcome Type'] == 'Euthanasia')]\n",
    "cat_euthanasia_df"
   ]
  },
  {
   "cell_type": "code",
   "execution_count": 56,
   "id": "f4b74962-8b5c-4fcc-a027-fbdea362b53d",
   "metadata": {},
   "outputs": [
    {
     "data": {
      "text/plain": [
       "39.16733711239536"
      ]
     },
     "execution_count": 56,
     "metadata": {},
     "output_type": "execute_result"
    }
   ],
   "source": [
    "63775 / 162827 *100 #percentage of cats records within the data"
   ]
  },
  {
   "cell_type": "code",
   "execution_count": 58,
   "id": "fdc540cf-f1c5-471e-8f76-04dc99ba2aa5",
   "metadata": {},
   "outputs": [
    {
     "data": {
      "text/plain": [
       "1.4659730880013757"
      ]
     },
     "execution_count": 58,
     "metadata": {},
     "output_type": "execute_result"
    }
   ],
   "source": [
    "2387 / 162827 *100 #percentage of cats euthanized  within the data"
   ]
  },
  {
   "cell_type": "code",
   "execution_count": 60,
   "id": "da31074d-edcf-4c5a-b554-6c06aca17437",
   "metadata": {},
   "outputs": [
    {
     "data": {
      "text/plain": [
       "Breed\n",
       "Domestic Shorthair Mix                 1366\n",
       "Domestic Shorthair                      545\n",
       "Domestic Medium Hair Mix                155\n",
       "Domestic Longhair Mix                    93\n",
       "Siamese Mix                              66\n",
       "Domestic Medium Hair                     66\n",
       "Domestic Longhair                        41\n",
       "Siamese                                  12\n",
       "American Shorthair Mix                    7\n",
       "Ragdoll Mix                               5\n",
       "Himalayan Mix                             4\n",
       "Snowshoe Mix                              4\n",
       "Maine Coon Mix                            3\n",
       "Maine Coon                                2\n",
       "Persian Mix                               2\n",
       "Tonkinese Mix                             2\n",
       "Turkish Angora Mix                        1\n",
       "Japanese Bobtail Mix                      1\n",
       "Domestic Longhair/Domestic Longhair       1\n",
       "Siamese/Domestic Medium Hair              1\n",
       "Snowshoe/Ragdoll                          1\n",
       "Manx Mix                                  1\n",
       "Siamese/Domestic Shorthair                1\n",
       "Balinese Mix                              1\n",
       "British Shorthair Mix                     1\n",
       "Russian Blue Mix                          1\n",
       "Snowshoe                                  1\n",
       "Exotic Shorthair                          1\n",
       "American Shorthair                        1\n",
       "Manx                                      1\n",
       "Name: count, dtype: int64"
      ]
     },
     "execution_count": 60,
     "metadata": {},
     "output_type": "execute_result"
    }
   ],
   "source": [
    "cat_breed = cat_euthanasia_df['Breed'].value_counts()\n",
    "cat_breed"
   ]
  },
  {
   "cell_type": "code",
   "execution_count": 62,
   "id": "42da6ec5-cb9f-4d06-999d-ae80dfa87d7c",
   "metadata": {},
   "outputs": [
    {
     "data": {
      "text/plain": [
       "Outcome Subtype\n",
       "Suffering      2044\n",
       "At Vet          122\n",
       "Rabies Risk     107\n",
       "Medical          92\n",
       "Aggressive        4\n",
       "Underage          1\n",
       "Name: count, dtype: int64"
      ]
     },
     "execution_count": 62,
     "metadata": {},
     "output_type": "execute_result"
    }
   ],
   "source": [
    "cat_euthanasia_df = austin_df[(austin_df['Animal Type'] == 'Cat') & (austin_df['Outcome Type'] == 'Euthanasia')]\n",
    "cat_outcome_subtypes = cat_euthanasia_df['Outcome Subtype'].value_counts()\n",
    "cat_outcome_subtypes"
   ]
  },
  {
   "cell_type": "code",
   "execution_count": 64,
   "id": "d177b7cf-2e9b-42cc-a272-5efc53ee3832",
   "metadata": {
    "scrolled": true
   },
   "outputs": [
    {
     "data": {
      "image/png": "[encoded data removed]",
      "text/plain": [
       "<Figure size 800x300 with 1 Axes>"
      ]
     },
     "metadata": {},
     "output_type": "display_data"
    }
   ],
   "source": [
    "cat_outcome_subtypes = {\n",
    "    'Suffering': 2044,\n",
    "    'At Vet': 122,\n",
    "    'Rabies Risk': 107,\n",
    "    'Medical': 92,\n",
    "    'Aggressive': 4,\n",
    "    'Underage': 1\n",
    "}\n",
    "\n",
    "outcome = list(cat_outcome_subtypes.keys())\n",
    "counts = list(cat_outcome_subtypes.values())\n",
    "\n",
    "plt.figure(figsize=(8, 3))\n",
    "plt.bar(outcome, counts, color='navy')\n",
    "plt.xlabel('')\n",
    "plt.ylabel('')\n",
    "plt.title('Cats')\n",
    "plt.xticks(rotation=45)  \n",
    "plt.show()"
   ]
  },
  {
   "cell_type": "markdown",
   "id": "2824bc8e-bd82-4326-b711-c983cd968f39",
   "metadata": {},
   "source": [
    "### Other ###\n",
    "8,485 Records"
   ]
  },
  {
   "cell_type": "code",
   "execution_count": 67,
   "id": "544bbd35-aa2f-4338-ae47-3c7a6001e11c",
   "metadata": {
    "scrolled": true
   },
   "outputs": [
    {
     "data": {
      "text/html": [
       "<div>\n",
       "<style scoped>\n",
       "    .dataframe tbody tr th:only-of-type {\n",
       "        vertical-align: middle;\n",
       "    }\n",
       "\n",
       "    .dataframe tbody tr th {\n",
       "        vertical-align: top;\n",
       "    }\n",
       "\n",
       "    .dataframe thead th {\n",
       "        text-align: right;\n",
       "    }\n",
       "</style>\n",
       "<table border=\"1\" class=\"dataframe\">\n",
       "  <thead>\n",
       "    <tr style=\"text-align: right;\">\n",
       "      <th></th>\n",
       "      <th>Animal ID</th>\n",
       "      <th>Name</th>\n",
       "      <th>DateTime</th>\n",
       "      <th>MonthYear</th>\n",
       "      <th>Date of Birth</th>\n",
       "      <th>Outcome Type</th>\n",
       "      <th>Outcome Subtype</th>\n",
       "      <th>Animal Type</th>\n",
       "      <th>Sex upon Outcome</th>\n",
       "      <th>Age upon Outcome</th>\n",
       "      <th>Breed</th>\n",
       "      <th>Color</th>\n",
       "      <th>Date In</th>\n",
       "    </tr>\n",
       "  </thead>\n",
       "  <tbody>\n",
       "    <tr>\n",
       "      <th>2</th>\n",
       "      <td>A821648</td>\n",
       "      <td>NaN</td>\n",
       "      <td>08/16/2020 11:38:00 AM</td>\n",
       "      <td>Aug 2020</td>\n",
       "      <td>08/16/2019</td>\n",
       "      <td>Euthanasia</td>\n",
       "      <td>NaN</td>\n",
       "      <td>Other</td>\n",
       "      <td>Unknown</td>\n",
       "      <td>1 year</td>\n",
       "      <td>Raccoon</td>\n",
       "      <td>Gray</td>\n",
       "      <td>08/16/2020</td>\n",
       "    </tr>\n",
       "    <tr>\n",
       "      <th>24</th>\n",
       "      <td>A725795</td>\n",
       "      <td>NaN</td>\n",
       "      <td>05/03/2016 12:39:00 PM</td>\n",
       "      <td>May 2016</td>\n",
       "      <td>04/15/2016</td>\n",
       "      <td>Euthanasia</td>\n",
       "      <td>Underage</td>\n",
       "      <td>Other</td>\n",
       "      <td>Unknown</td>\n",
       "      <td>2 weeks</td>\n",
       "      <td>Opossum</td>\n",
       "      <td>Gray</td>\n",
       "      <td>05/03/2016</td>\n",
       "    </tr>\n",
       "    <tr>\n",
       "      <th>34</th>\n",
       "      <td>A766700</td>\n",
       "      <td>NaN</td>\n",
       "      <td>02/15/2018 08:59:00 AM</td>\n",
       "      <td>Feb 2018</td>\n",
       "      <td>02/15/2017</td>\n",
       "      <td>Euthanasia</td>\n",
       "      <td>Rabies Risk</td>\n",
       "      <td>Other</td>\n",
       "      <td>Unknown</td>\n",
       "      <td>1 year</td>\n",
       "      <td>Bat Mix</td>\n",
       "      <td>Brown</td>\n",
       "      <td>02/15/2018</td>\n",
       "    </tr>\n",
       "    <tr>\n",
       "      <th>40</th>\n",
       "      <td>A765701</td>\n",
       "      <td>NaN</td>\n",
       "      <td>01/25/2018 09:39:00 AM</td>\n",
       "      <td>Jan 2018</td>\n",
       "      <td>01/25/2017</td>\n",
       "      <td>Euthanasia</td>\n",
       "      <td>Rabies Risk</td>\n",
       "      <td>Other</td>\n",
       "      <td>Unknown</td>\n",
       "      <td>1 year</td>\n",
       "      <td>Bat Mix</td>\n",
       "      <td>Brown</td>\n",
       "      <td>01/25/2018</td>\n",
       "    </tr>\n",
       "    <tr>\n",
       "      <th>48</th>\n",
       "      <td>A730464</td>\n",
       "      <td>NaN</td>\n",
       "      <td>07/05/2016 12:47:00 PM</td>\n",
       "      <td>Jul 2016</td>\n",
       "      <td>07/05/2015</td>\n",
       "      <td>Euthanasia</td>\n",
       "      <td>Rabies Risk</td>\n",
       "      <td>Other</td>\n",
       "      <td>Unknown</td>\n",
       "      <td>1 year</td>\n",
       "      <td>Bat</td>\n",
       "      <td>Black/Brown</td>\n",
       "      <td>07/05/2016</td>\n",
       "    </tr>\n",
       "    <tr>\n",
       "      <th>...</th>\n",
       "      <td>...</td>\n",
       "      <td>...</td>\n",
       "      <td>...</td>\n",
       "      <td>...</td>\n",
       "      <td>...</td>\n",
       "      <td>...</td>\n",
       "      <td>...</td>\n",
       "      <td>...</td>\n",
       "      <td>...</td>\n",
       "      <td>...</td>\n",
       "      <td>...</td>\n",
       "      <td>...</td>\n",
       "      <td>...</td>\n",
       "    </tr>\n",
       "    <tr>\n",
       "      <th>162443</th>\n",
       "      <td>A903979</td>\n",
       "      <td>NaN</td>\n",
       "      <td>05/09/2024 11:36:00 AM</td>\n",
       "      <td>May 2024</td>\n",
       "      <td>05/05/2022</td>\n",
       "      <td>Euthanasia</td>\n",
       "      <td>Rabies Risk</td>\n",
       "      <td>Other</td>\n",
       "      <td>Unknown</td>\n",
       "      <td>2 years</td>\n",
       "      <td>Skunk</td>\n",
       "      <td>Black/White</td>\n",
       "      <td>05/09/2024</td>\n",
       "    </tr>\n",
       "    <tr>\n",
       "      <th>162446</th>\n",
       "      <td>A904567</td>\n",
       "      <td>NaN</td>\n",
       "      <td>05/15/2024 11:36:00 AM</td>\n",
       "      <td>May 2024</td>\n",
       "      <td>05/11/2022</td>\n",
       "      <td>Euthanasia</td>\n",
       "      <td>Rabies Risk</td>\n",
       "      <td>Other</td>\n",
       "      <td>Unknown</td>\n",
       "      <td>2 years</td>\n",
       "      <td>Bat</td>\n",
       "      <td>Brown/Brown</td>\n",
       "      <td>05/15/2024</td>\n",
       "    </tr>\n",
       "    <tr>\n",
       "      <th>162524</th>\n",
       "      <td>A904935</td>\n",
       "      <td>NaN</td>\n",
       "      <td>05/19/2024 01:11:00 PM</td>\n",
       "      <td>May 2024</td>\n",
       "      <td>05/15/2022</td>\n",
       "      <td>Euthanasia</td>\n",
       "      <td>Rabies Risk</td>\n",
       "      <td>Other</td>\n",
       "      <td>Unknown</td>\n",
       "      <td>2 years</td>\n",
       "      <td>Skunk</td>\n",
       "      <td>Black/White</td>\n",
       "      <td>05/19/2024</td>\n",
       "    </tr>\n",
       "    <tr>\n",
       "      <th>162761</th>\n",
       "      <td>A905706</td>\n",
       "      <td>NaN</td>\n",
       "      <td>05/24/2024 01:46:00 PM</td>\n",
       "      <td>May 2024</td>\n",
       "      <td>05/23/2022</td>\n",
       "      <td>Euthanasia</td>\n",
       "      <td>At Vet</td>\n",
       "      <td>Other</td>\n",
       "      <td>Unknown</td>\n",
       "      <td>NaN</td>\n",
       "      <td>Raccoon</td>\n",
       "      <td>Black/Gray</td>\n",
       "      <td>05/24/2024</td>\n",
       "    </tr>\n",
       "    <tr>\n",
       "      <th>162832</th>\n",
       "      <td>A904588</td>\n",
       "      <td>NaN</td>\n",
       "      <td>05/14/2024 04:29:00 PM</td>\n",
       "      <td>May 2024</td>\n",
       "      <td>05/04/2024</td>\n",
       "      <td>Euthanasia</td>\n",
       "      <td>NaN</td>\n",
       "      <td>Other</td>\n",
       "      <td>Unknown</td>\n",
       "      <td>1 weeks</td>\n",
       "      <td>Cottontail</td>\n",
       "      <td>Brown/Gray</td>\n",
       "      <td>05/14/2024</td>\n",
       "    </tr>\n",
       "  </tbody>\n",
       "</table>\n",
       "<p>5626 rows × 13 columns</p>\n",
       "</div>"
      ],
      "text/plain": [
       "       Animal ID Name                DateTime MonthYear Date of Birth  \\\n",
       "2        A821648  NaN  08/16/2020 11:38:00 AM  Aug 2020    08/16/2019   \n",
       "24       A725795  NaN  05/03/2016 12:39:00 PM  May 2016    04/15/2016   \n",
       "34       A766700  NaN  02/15/2018 08:59:00 AM  Feb 2018    02/15/2017   \n",
       "40       A765701  NaN  01/25/2018 09:39:00 AM  Jan 2018    01/25/2017   \n",
       "48       A730464  NaN  07/05/2016 12:47:00 PM  Jul 2016    07/05/2015   \n",
       "...          ...  ...                     ...       ...           ...   \n",
       "162443   A903979  NaN  05/09/2024 11:36:00 AM  May 2024    05/05/2022   \n",
       "162446   A904567  NaN  05/15/2024 11:36:00 AM  May 2024    05/11/2022   \n",
       "162524   A904935  NaN  05/19/2024 01:11:00 PM  May 2024    05/15/2022   \n",
       "162761   A905706  NaN  05/24/2024 01:46:00 PM  May 2024    05/23/2022   \n",
       "162832   A904588  NaN  05/14/2024 04:29:00 PM  May 2024    05/04/2024   \n",
       "\n",
       "       Outcome Type Outcome Subtype Animal Type Sex upon Outcome  \\\n",
       "2        Euthanasia             NaN       Other          Unknown   \n",
       "24       Euthanasia        Underage       Other          Unknown   \n",
       "34       Euthanasia     Rabies Risk       Other          Unknown   \n",
       "40       Euthanasia     Rabies Risk       Other          Unknown   \n",
       "48       Euthanasia     Rabies Risk       Other          Unknown   \n",
       "...             ...             ...         ...              ...   \n",
       "162443   Euthanasia     Rabies Risk       Other          Unknown   \n",
       "162446   Euthanasia     Rabies Risk       Other          Unknown   \n",
       "162524   Euthanasia     Rabies Risk       Other          Unknown   \n",
       "162761   Euthanasia          At Vet       Other          Unknown   \n",
       "162832   Euthanasia             NaN       Other          Unknown   \n",
       "\n",
       "       Age upon Outcome       Breed        Color     Date In  \n",
       "2                1 year     Raccoon         Gray  08/16/2020  \n",
       "24              2 weeks     Opossum         Gray  05/03/2016  \n",
       "34               1 year     Bat Mix        Brown  02/15/2018  \n",
       "40               1 year     Bat Mix        Brown  01/25/2018  \n",
       "48               1 year         Bat  Black/Brown  07/05/2016  \n",
       "...                 ...         ...          ...         ...  \n",
       "162443          2 years       Skunk  Black/White  05/09/2024  \n",
       "162446          2 years         Bat  Brown/Brown  05/15/2024  \n",
       "162524          2 years       Skunk  Black/White  05/19/2024  \n",
       "162761              NaN     Raccoon   Black/Gray  05/24/2024  \n",
       "162832          1 weeks  Cottontail   Brown/Gray  05/14/2024  \n",
       "\n",
       "[5626 rows x 13 columns]"
      ]
     },
     "execution_count": 67,
     "metadata": {},
     "output_type": "execute_result"
    }
   ],
   "source": [
    "other_euthanasia_df = austin_df[(austin_df['Animal Type'] == 'Other') & (austin_df['Outcome Type'] == 'Euthanasia')]\n",
    "other_euthanasia_df"
   ]
  },
  {
   "cell_type": "code",
   "execution_count": 69,
   "id": "150604f3-4961-4be0-9701-54d78ef98dcd",
   "metadata": {},
   "outputs": [],
   "source": [
    "#What are the different types of Breeds the \"other\" Animal Type include?"
   ]
  },
  {
   "cell_type": "code",
   "execution_count": 71,
   "id": "74a2d6bc-7567-4478-b25c-af2964ed1a5e",
   "metadata": {},
   "outputs": [
    {
     "data": {
      "text/plain": [
       "Breed\n",
       "Bat                  1899\n",
       "Bat Mix              1523\n",
       "Raccoon               673\n",
       "Raccoon Mix           503\n",
       "Skunk                 162\n",
       "Opossum Mix           158\n",
       "Opossum               154\n",
       "Fox                   121\n",
       "Skunk Mix              96\n",
       "Squirrel Mix           78\n",
       "Squirrel               58\n",
       "Fox Mix                55\n",
       "Rabbit Sh Mix          23\n",
       "Coyote                 18\n",
       "Rabbit Sh              16\n",
       "Rat Mix                13\n",
       "Rat                    13\n",
       "Coyote Mix             10\n",
       "Armadillo Mix           6\n",
       "Guinea Pig              6\n",
       "Turtle Mix              6\n",
       "Armadillo               5\n",
       "Turtle                  4\n",
       "Bat/Mex Free-Tail       3\n",
       "Snake                   3\n",
       "Cottontail              2\n",
       "Hamster Mix             2\n",
       "Ferret                  2\n",
       "Ferret Mix              2\n",
       "Chinchilla              1\n",
       "Gerbil                  1\n",
       "Ringtail Mix            1\n",
       "Californian Mix         1\n",
       "Tortoise                1\n",
       "Snake Mix               1\n",
       "Deer Mix                1\n",
       "Otter Mix               1\n",
       "Havana Mix              1\n",
       "Rabbit Lh Mix           1\n",
       "Bobcat Mix              1\n",
       "Tortoise Mix            1\n",
       "Name: count, dtype: int64"
      ]
     },
     "execution_count": 71,
     "metadata": {},
     "output_type": "execute_result"
    }
   ],
   "source": [
    "breed = other_euthanasia_df['Breed'].value_counts()\n",
    "breed"
   ]
  },
  {
   "cell_type": "code",
   "execution_count": 73,
   "id": "39b7f93d-db9b-45ee-9fa1-7fbba5f0e56a",
   "metadata": {},
   "outputs": [
    {
     "data": {
      "text/plain": [
       "5.211052221068988"
      ]
     },
     "execution_count": 73,
     "metadata": {},
     "output_type": "execute_result"
    }
   ],
   "source": [
    "8485 / 162827 *100 #percentage of \"other\" records within the data"
   ]
  },
  {
   "cell_type": "code",
   "execution_count": 75,
   "id": "8f4b7999-1c91-4429-8ca1-17ebecf07a91",
   "metadata": {},
   "outputs": [
    {
     "data": {
      "text/plain": [
       "3.4552009187665433"
      ]
     },
     "execution_count": 75,
     "metadata": {},
     "output_type": "execute_result"
    }
   ],
   "source": [
    "5626 / 162827 *100 #percentage of \"other\" euthanized  within the data"
   ]
  },
  {
   "cell_type": "code",
   "execution_count": 77,
   "id": "d7fd5edb-c367-4c44-850e-b0eb98624dcc",
   "metadata": {},
   "outputs": [
    {
     "data": {
      "text/plain": [
       "Outcome Subtype\n",
       "Rabies Risk    4404\n",
       "Suffering       761\n",
       "Medical         155\n",
       "Underage         35\n",
       "At Vet           22\n",
       "Aggressive        1\n",
       "Name: count, dtype: int64"
      ]
     },
     "execution_count": 77,
     "metadata": {},
     "output_type": "execute_result"
    }
   ],
   "source": [
    "other_euthanasia_df = austin_df[(austin_df['Animal Type'] == 'Other') & (austin_df['Outcome Type'] == 'Euthanasia')]\n",
    "other_outcome_subtypes = other_euthanasia_df['Outcome Subtype'].value_counts()\n",
    "other_outcome_subtypes"
   ]
  },
  {
   "cell_type": "code",
   "execution_count": 79,
   "id": "455e51db-a8c8-4bd3-804c-fa0b3726829a",
   "metadata": {},
   "outputs": [
    {
     "data": {
      "image/png": "[encoded data removed]",
      "text/plain": [
       "<Figure size 800x300 with 1 Axes>"
      ]
     },
     "metadata": {},
     "output_type": "display_data"
    }
   ],
   "source": [
    "other_outcome_subtypes = {\n",
    "    'Rabies Risk': 4404,\n",
    "    'Suffering': 761,\n",
    "    'Medical': 155,\n",
    "    'Underage': 35,\n",
    "    'At Vet': 22,\n",
    "    'Aggressive': 1    \n",
    "}\n",
    "\n",
    "outcome = list(other_outcome_subtypes.keys())\n",
    "counts = list(other_outcome_subtypes.values())\n",
    "\n",
    "\n",
    "plt.figure(figsize=(8, 3))\n",
    "plt.bar(outcome, counts, color='navy')\n",
    "plt.xlabel('')\n",
    "plt.ylabel('')\n",
    "plt.title('Other')\n",
    "plt.xticks(rotation=45)  \n",
    "plt.show()"
   ]
  },
  {
   "cell_type": "markdown",
   "id": "7865a34b-3828-4e70-9720-0b5abb1d1fc9",
   "metadata": {},
   "source": [
    "### Birds ###  \n",
    "815 Records  "
   ]
  },
  {
   "cell_type": "code",
   "execution_count": 82,
   "id": "db0e980c-d305-4d06-a23e-81db929e2b9f",
   "metadata": {},
   "outputs": [
    {
     "data": {
      "text/html": [
       "<div>\n",
       "<style scoped>\n",
       "    .dataframe tbody tr th:only-of-type {\n",
       "        vertical-align: middle;\n",
       "    }\n",
       "\n",
       "    .dataframe tbody tr th {\n",
       "        vertical-align: top;\n",
       "    }\n",
       "\n",
       "    .dataframe thead th {\n",
       "        text-align: right;\n",
       "    }\n",
       "</style>\n",
       "<table border=\"1\" class=\"dataframe\">\n",
       "  <thead>\n",
       "    <tr style=\"text-align: right;\">\n",
       "      <th></th>\n",
       "      <th>Animal ID</th>\n",
       "      <th>Name</th>\n",
       "      <th>DateTime</th>\n",
       "      <th>MonthYear</th>\n",
       "      <th>Date of Birth</th>\n",
       "      <th>Outcome Type</th>\n",
       "      <th>Outcome Subtype</th>\n",
       "      <th>Animal Type</th>\n",
       "      <th>Sex upon Outcome</th>\n",
       "      <th>Age upon Outcome</th>\n",
       "      <th>Breed</th>\n",
       "      <th>Color</th>\n",
       "      <th>Date In</th>\n",
       "    </tr>\n",
       "  </thead>\n",
       "  <tbody>\n",
       "    <tr>\n",
       "      <th>1414</th>\n",
       "      <td>A790172</td>\n",
       "      <td>NaN</td>\n",
       "      <td>03/07/2019 12:00:00 AM</td>\n",
       "      <td>Mar 2019</td>\n",
       "      <td>03/05/2018</td>\n",
       "      <td>Euthanasia</td>\n",
       "      <td>Suffering</td>\n",
       "      <td>Bird</td>\n",
       "      <td>Unknown</td>\n",
       "      <td>1 year</td>\n",
       "      <td>Chicken Mix</td>\n",
       "      <td>White/Red</td>\n",
       "      <td>03/07/2019</td>\n",
       "    </tr>\n",
       "    <tr>\n",
       "      <th>2435</th>\n",
       "      <td>A729393</td>\n",
       "      <td>NaN</td>\n",
       "      <td>06/17/2016 03:52:00 PM</td>\n",
       "      <td>Jun 2016</td>\n",
       "      <td>06/17/2014</td>\n",
       "      <td>Euthanasia</td>\n",
       "      <td>Suffering</td>\n",
       "      <td>Bird</td>\n",
       "      <td>Unknown</td>\n",
       "      <td>2 years</td>\n",
       "      <td>Dove Mix</td>\n",
       "      <td>Gray</td>\n",
       "      <td>06/17/2016</td>\n",
       "    </tr>\n",
       "    <tr>\n",
       "      <th>2641</th>\n",
       "      <td>A832311</td>\n",
       "      <td>NaN</td>\n",
       "      <td>04/15/2021 12:00:00 AM</td>\n",
       "      <td>Apr 2021</td>\n",
       "      <td>04/11/2017</td>\n",
       "      <td>Euthanasia</td>\n",
       "      <td>Suffering</td>\n",
       "      <td>Bird</td>\n",
       "      <td>Intact Male</td>\n",
       "      <td>4 years</td>\n",
       "      <td>Peafowl</td>\n",
       "      <td>Green/Black</td>\n",
       "      <td>04/15/2021</td>\n",
       "    </tr>\n",
       "    <tr>\n",
       "      <th>3681</th>\n",
       "      <td>A750282</td>\n",
       "      <td>NaN</td>\n",
       "      <td>05/25/2017 12:39:00 PM</td>\n",
       "      <td>May 2017</td>\n",
       "      <td>04/25/2017</td>\n",
       "      <td>Euthanasia</td>\n",
       "      <td>Suffering</td>\n",
       "      <td>Bird</td>\n",
       "      <td>Unknown</td>\n",
       "      <td>4 weeks</td>\n",
       "      <td>Chicken Mix</td>\n",
       "      <td>Brown</td>\n",
       "      <td>05/25/2017</td>\n",
       "    </tr>\n",
       "    <tr>\n",
       "      <th>3970</th>\n",
       "      <td>A730594</td>\n",
       "      <td>NaN</td>\n",
       "      <td>07/07/2016 12:02:00 PM</td>\n",
       "      <td>Jul 2016</td>\n",
       "      <td>06/07/2016</td>\n",
       "      <td>Euthanasia</td>\n",
       "      <td>Suffering</td>\n",
       "      <td>Bird</td>\n",
       "      <td>Unknown</td>\n",
       "      <td>4 weeks</td>\n",
       "      <td>Pigeon Mix</td>\n",
       "      <td>Brown</td>\n",
       "      <td>07/07/2016</td>\n",
       "    </tr>\n",
       "    <tr>\n",
       "      <th>...</th>\n",
       "      <td>...</td>\n",
       "      <td>...</td>\n",
       "      <td>...</td>\n",
       "      <td>...</td>\n",
       "      <td>...</td>\n",
       "      <td>...</td>\n",
       "      <td>...</td>\n",
       "      <td>...</td>\n",
       "      <td>...</td>\n",
       "      <td>...</td>\n",
       "      <td>...</td>\n",
       "      <td>...</td>\n",
       "      <td>...</td>\n",
       "    </tr>\n",
       "    <tr>\n",
       "      <th>151334</th>\n",
       "      <td>A876075</td>\n",
       "      <td>NaN</td>\n",
       "      <td>03/09/2023 10:26:00 AM</td>\n",
       "      <td>Mar 2023</td>\n",
       "      <td>03/09/2021</td>\n",
       "      <td>Euthanasia</td>\n",
       "      <td>Suffering</td>\n",
       "      <td>Bird</td>\n",
       "      <td>Unknown</td>\n",
       "      <td>2 years</td>\n",
       "      <td>Duck</td>\n",
       "      <td>White</td>\n",
       "      <td>03/09/2023</td>\n",
       "    </tr>\n",
       "    <tr>\n",
       "      <th>151505</th>\n",
       "      <td>A868917</td>\n",
       "      <td>NaN</td>\n",
       "      <td>11/14/2022 11:20:00 AM</td>\n",
       "      <td>Nov 2022</td>\n",
       "      <td>11/10/2020</td>\n",
       "      <td>Euthanasia</td>\n",
       "      <td>Suffering</td>\n",
       "      <td>Bird</td>\n",
       "      <td>Intact Male</td>\n",
       "      <td>2 years</td>\n",
       "      <td>Chicken</td>\n",
       "      <td>Red</td>\n",
       "      <td>11/14/2022</td>\n",
       "    </tr>\n",
       "    <tr>\n",
       "      <th>152879</th>\n",
       "      <td>A883637</td>\n",
       "      <td>NaN</td>\n",
       "      <td>06/21/2023 04:25:00 PM</td>\n",
       "      <td>Jun 2023</td>\n",
       "      <td>06/21/2021</td>\n",
       "      <td>Euthanasia</td>\n",
       "      <td>Suffering</td>\n",
       "      <td>Bird</td>\n",
       "      <td>Intact Female</td>\n",
       "      <td>2 years</td>\n",
       "      <td>Chicken</td>\n",
       "      <td>White/White</td>\n",
       "      <td>06/21/2023</td>\n",
       "    </tr>\n",
       "    <tr>\n",
       "      <th>158722</th>\n",
       "      <td>A893273</td>\n",
       "      <td>NaN</td>\n",
       "      <td>11/22/2023 03:37:00 PM</td>\n",
       "      <td>Nov 2023</td>\n",
       "      <td>11/18/2021</td>\n",
       "      <td>Euthanasia</td>\n",
       "      <td>Suffering</td>\n",
       "      <td>Bird</td>\n",
       "      <td>Unknown</td>\n",
       "      <td>2 years</td>\n",
       "      <td>Duck</td>\n",
       "      <td>White</td>\n",
       "      <td>11/22/2023</td>\n",
       "    </tr>\n",
       "    <tr>\n",
       "      <th>158723</th>\n",
       "      <td>A893272</td>\n",
       "      <td>NaN</td>\n",
       "      <td>11/22/2023 03:37:00 PM</td>\n",
       "      <td>Nov 2023</td>\n",
       "      <td>11/18/2021</td>\n",
       "      <td>Euthanasia</td>\n",
       "      <td>Suffering</td>\n",
       "      <td>Bird</td>\n",
       "      <td>Unknown</td>\n",
       "      <td>2 years</td>\n",
       "      <td>Duck</td>\n",
       "      <td>White</td>\n",
       "      <td>11/22/2023</td>\n",
       "    </tr>\n",
       "  </tbody>\n",
       "</table>\n",
       "<p>141 rows × 13 columns</p>\n",
       "</div>"
      ],
      "text/plain": [
       "       Animal ID Name                DateTime MonthYear Date of Birth  \\\n",
       "1414     A790172  NaN  03/07/2019 12:00:00 AM  Mar 2019    03/05/2018   \n",
       "2435     A729393  NaN  06/17/2016 03:52:00 PM  Jun 2016    06/17/2014   \n",
       "2641     A832311  NaN  04/15/2021 12:00:00 AM  Apr 2021    04/11/2017   \n",
       "3681     A750282  NaN  05/25/2017 12:39:00 PM  May 2017    04/25/2017   \n",
       "3970     A730594  NaN  07/07/2016 12:02:00 PM  Jul 2016    06/07/2016   \n",
       "...          ...  ...                     ...       ...           ...   \n",
       "151334   A876075  NaN  03/09/2023 10:26:00 AM  Mar 2023    03/09/2021   \n",
       "151505   A868917  NaN  11/14/2022 11:20:00 AM  Nov 2022    11/10/2020   \n",
       "152879   A883637  NaN  06/21/2023 04:25:00 PM  Jun 2023    06/21/2021   \n",
       "158722   A893273  NaN  11/22/2023 03:37:00 PM  Nov 2023    11/18/2021   \n",
       "158723   A893272  NaN  11/22/2023 03:37:00 PM  Nov 2023    11/18/2021   \n",
       "\n",
       "       Outcome Type Outcome Subtype Animal Type Sex upon Outcome  \\\n",
       "1414     Euthanasia       Suffering        Bird          Unknown   \n",
       "2435     Euthanasia       Suffering        Bird          Unknown   \n",
       "2641     Euthanasia       Suffering        Bird      Intact Male   \n",
       "3681     Euthanasia       Suffering        Bird          Unknown   \n",
       "3970     Euthanasia       Suffering        Bird          Unknown   \n",
       "...             ...             ...         ...              ...   \n",
       "151334   Euthanasia       Suffering        Bird          Unknown   \n",
       "151505   Euthanasia       Suffering        Bird      Intact Male   \n",
       "152879   Euthanasia       Suffering        Bird    Intact Female   \n",
       "158722   Euthanasia       Suffering        Bird          Unknown   \n",
       "158723   Euthanasia       Suffering        Bird          Unknown   \n",
       "\n",
       "       Age upon Outcome        Breed        Color     Date In  \n",
       "1414             1 year  Chicken Mix    White/Red  03/07/2019  \n",
       "2435            2 years     Dove Mix         Gray  06/17/2016  \n",
       "2641            4 years      Peafowl  Green/Black  04/15/2021  \n",
       "3681            4 weeks  Chicken Mix        Brown  05/25/2017  \n",
       "3970            4 weeks   Pigeon Mix        Brown  07/07/2016  \n",
       "...                 ...          ...          ...         ...  \n",
       "151334          2 years         Duck        White  03/09/2023  \n",
       "151505          2 years      Chicken          Red  11/14/2022  \n",
       "152879          2 years      Chicken  White/White  06/21/2023  \n",
       "158722          2 years         Duck        White  11/22/2023  \n",
       "158723          2 years         Duck        White  11/22/2023  \n",
       "\n",
       "[141 rows x 13 columns]"
      ]
     },
     "execution_count": 82,
     "metadata": {},
     "output_type": "execute_result"
    }
   ],
   "source": [
    "bird_euthanasia_df = austin_df[(austin_df['Animal Type'] == 'Bird') & (austin_df['Outcome Type'] == 'Euthanasia')]\n",
    "bird_euthanasia_df"
   ]
  },
  {
   "cell_type": "code",
   "execution_count": 84,
   "id": "f447ff58-9fae-4f64-ada7-687fb3bc78af",
   "metadata": {},
   "outputs": [
    {
     "data": {
      "text/plain": [
       "0.5005312386766323"
      ]
     },
     "execution_count": 84,
     "metadata": {},
     "output_type": "execute_result"
    }
   ],
   "source": [
    "815 / 162827 *100 #percentage of bird records within the data"
   ]
  },
  {
   "cell_type": "code",
   "execution_count": 86,
   "id": "93117299-0a6b-4728-9a63-c1bb8393366c",
   "metadata": {},
   "outputs": [
    {
     "data": {
      "text/plain": [
       "0.08659497503485294"
      ]
     },
     "execution_count": 86,
     "metadata": {},
     "output_type": "execute_result"
    }
   ],
   "source": [
    "141 / 162827 *100 #percentage of birds euthanized within the data"
   ]
  },
  {
   "cell_type": "code",
   "execution_count": 88,
   "id": "cee99b77-aaed-4f69-947e-3c71baf3f9f6",
   "metadata": {},
   "outputs": [
    {
     "data": {
      "text/plain": [
       "Breed\n",
       "Chicken Mix         23\n",
       "Chicken             20\n",
       "Dove Mix            13\n",
       "Grackle              9\n",
       "Pigeon               6\n",
       "Pigeon Mix           6\n",
       "Hawk                 5\n",
       "Duck Mix             4\n",
       "Owl Mix              4\n",
       "Dove                 4\n",
       "Sparrow              4\n",
       "Grackle Mix          4\n",
       "Duck                 3\n",
       "Vulture Mix          3\n",
       "Bluebird Mix         3\n",
       "Parakeet             3\n",
       "Peafowl              2\n",
       "Mockingbird Mix      2\n",
       "Heron Mix            2\n",
       "Heron                2\n",
       "Rhode Island Mix     2\n",
       "Silkie               2\n",
       "Sparrow Mix          2\n",
       "Chickadee Mix        1\n",
       "Finch Mix            1\n",
       "Quaker Mix           1\n",
       "Crow Mix             1\n",
       "Hawk Mix             1\n",
       "Quaker               1\n",
       "Starling             1\n",
       "Vulture              1\n",
       "Owl                  1\n",
       "Song Bird Mix        1\n",
       "Lark Mix             1\n",
       "Finch                1\n",
       "Whimbrel Mix         1\n",
       "Name: count, dtype: int64"
      ]
     },
     "execution_count": 88,
     "metadata": {},
     "output_type": "execute_result"
    }
   ],
   "source": [
    "bird_breed = bird_euthanasia_df['Breed'].value_counts()\n",
    "bird_breed"
   ]
  },
  {
   "cell_type": "code",
   "execution_count": 90,
   "id": "c5fa43df-2e56-4140-8a3b-bd8110f81d97",
   "metadata": {},
   "outputs": [
    {
     "data": {
      "text/plain": [
       "Outcome Subtype\n",
       "Suffering    122\n",
       "Medical       12\n",
       "At Vet         2\n",
       "Underage       1\n",
       "Name: count, dtype: int64"
      ]
     },
     "execution_count": 90,
     "metadata": {},
     "output_type": "execute_result"
    }
   ],
   "source": [
    "bird_euthanasia_df = austin_df[(austin_df['Animal Type'] == 'Bird') & (austin_df['Outcome Type'] == 'Euthanasia')]\n",
    "bird_outcome_subtypes = bird_euthanasia_df['Outcome Subtype'].value_counts()\n",
    "bird_outcome_subtypes"
   ]
  },
  {
   "cell_type": "code",
   "execution_count": 94,
   "id": "43ae363c-f93f-477d-90c4-48931cc5a689",
   "metadata": {},
   "outputs": [
    {
     "data": {
      "image/png": "[encoded data removed]",
      "text/plain": [
       "<Figure size 800x300 with 1 Axes>"
      ]
     },
     "metadata": {},
     "output_type": "display_data"
    }
   ],
   "source": [
    "other_outcome_subtypes = {\n",
    "    'Suffering': 122,\n",
    "    'Medical': 12,    \n",
    "    'At Vet': 2,\n",
    "    'Underage': 1    \n",
    "}\n",
    "\n",
    "outcome = list(other_outcome_subtypes.keys())\n",
    "counts = list(other_outcome_subtypes.values())\n",
    "\n",
    "\n",
    "plt.figure(figsize=(8, 3))\n",
    "plt.bar(outcome, counts, color='navy')\n",
    "plt.xlabel('')\n",
    "plt.ylabel('')\n",
    "plt.title('Bird')\n",
    "plt.xticks(rotation=45)  \n",
    "plt.show()"
   ]
  },
  {
   "cell_type": "markdown",
   "id": "517a03a8-1931-4a32-b467-19703d5420a2",
   "metadata": {},
   "source": [
    "### Livestock ###\n",
    "28 Records  "
   ]
  },
  {
   "cell_type": "code",
   "execution_count": 127,
   "id": "95d1866e-ada0-4699-a996-664d99b18c42",
   "metadata": {},
   "outputs": [
    {
     "data": {
      "text/html": [
       "<div>\n",
       "<style scoped>\n",
       "    .dataframe tbody tr th:only-of-type {\n",
       "        vertical-align: middle;\n",
       "    }\n",
       "\n",
       "    .dataframe tbody tr th {\n",
       "        vertical-align: top;\n",
       "    }\n",
       "\n",
       "    .dataframe thead th {\n",
       "        text-align: right;\n",
       "    }\n",
       "</style>\n",
       "<table border=\"1\" class=\"dataframe\">\n",
       "  <thead>\n",
       "    <tr style=\"text-align: right;\">\n",
       "      <th></th>\n",
       "      <th>Animal ID</th>\n",
       "      <th>Name</th>\n",
       "      <th>DateTime</th>\n",
       "      <th>MonthYear</th>\n",
       "      <th>Date of Birth</th>\n",
       "      <th>Outcome Type</th>\n",
       "      <th>Outcome Subtype</th>\n",
       "      <th>Animal Type</th>\n",
       "      <th>Sex upon Outcome</th>\n",
       "      <th>Age upon Outcome</th>\n",
       "      <th>Breed</th>\n",
       "      <th>Color</th>\n",
       "      <th>Date In</th>\n",
       "    </tr>\n",
       "  </thead>\n",
       "  <tbody>\n",
       "    <tr>\n",
       "      <th>74332</th>\n",
       "      <td>A861975</td>\n",
       "      <td>NaN</td>\n",
       "      <td>07/20/2022 12:35:00 PM</td>\n",
       "      <td>Jul 2022</td>\n",
       "      <td>06/20/2022</td>\n",
       "      <td>Euthanasia</td>\n",
       "      <td>Behavior</td>\n",
       "      <td>Livestock</td>\n",
       "      <td>Unknown</td>\n",
       "      <td>4 weeks</td>\n",
       "      <td>Pig</td>\n",
       "      <td>Black/Brown</td>\n",
       "      <td>07/20/2022</td>\n",
       "    </tr>\n",
       "    <tr>\n",
       "      <th>123499</th>\n",
       "      <td>A826448</td>\n",
       "      <td>NaN</td>\n",
       "      <td>11/28/2020 03:40:00 PM</td>\n",
       "      <td>Nov 2020</td>\n",
       "      <td>05/28/2020</td>\n",
       "      <td>Euthanasia</td>\n",
       "      <td>Suffering</td>\n",
       "      <td>Livestock</td>\n",
       "      <td>Intact Male</td>\n",
       "      <td>6 months</td>\n",
       "      <td>Pig</td>\n",
       "      <td>Black/White</td>\n",
       "      <td>11/28/2020</td>\n",
       "    </tr>\n",
       "  </tbody>\n",
       "</table>\n",
       "</div>"
      ],
      "text/plain": [
       "       Animal ID Name                DateTime MonthYear Date of Birth  \\\n",
       "74332    A861975  NaN  07/20/2022 12:35:00 PM  Jul 2022    06/20/2022   \n",
       "123499   A826448  NaN  11/28/2020 03:40:00 PM  Nov 2020    05/28/2020   \n",
       "\n",
       "       Outcome Type Outcome Subtype Animal Type Sex upon Outcome  \\\n",
       "74332    Euthanasia        Behavior   Livestock          Unknown   \n",
       "123499   Euthanasia       Suffering   Livestock      Intact Male   \n",
       "\n",
       "       Age upon Outcome Breed        Color     Date In  \n",
       "74332           4 weeks   Pig  Black/Brown  07/20/2022  \n",
       "123499         6 months   Pig  Black/White  11/28/2020  "
      ]
     },
     "execution_count": 127,
     "metadata": {},
     "output_type": "execute_result"
    }
   ],
   "source": [
    "livestock_euthanasia_df = austin_df[(austin_df['Animal Type'] == 'Livestock') & (austin_df['Outcome Type'] == 'Euthanasia')]\n",
    "livestock_euthanasia_df"
   ]
  },
  {
   "cell_type": "code",
   "execution_count": 129,
   "id": "5435cae8-1521-4fff-8096-0dfaa4b4017a",
   "metadata": {},
   "outputs": [
    {
     "data": {
      "text/plain": [
       "0.017196165255148103"
      ]
     },
     "execution_count": 129,
     "metadata": {},
     "output_type": "execute_result"
    }
   ],
   "source": [
    "28 / 162827 *100 #percentage of Livestock records within the data"
   ]
  },
  {
   "cell_type": "code",
   "execution_count": 131,
   "id": "b39334d5-e7ee-4775-a09b-f6c4c0ac73ee",
   "metadata": {},
   "outputs": [
    {
     "data": {
      "text/plain": [
       "0.0012282975182248644"
      ]
     },
     "execution_count": 131,
     "metadata": {},
     "output_type": "execute_result"
    }
   ],
   "source": [
    "2 / 162827 *100 #percentage of Livestock euthanized within the data"
   ]
  },
  {
   "cell_type": "code",
   "execution_count": 133,
   "id": "63795c7f-fd2e-4e08-8e05-6dfa72102006",
   "metadata": {},
   "outputs": [
    {
     "data": {
      "text/plain": [
       "Outcome Subtype\n",
       "Behavior     1\n",
       "Suffering    1\n",
       "Name: count, dtype: int64"
      ]
     },
     "execution_count": 133,
     "metadata": {},
     "output_type": "execute_result"
    }
   ],
   "source": [
    "livestock_euthanasia_df = austin_df[(austin_df['Animal Type'] == 'Livestock') & (austin_df['Outcome Type'] == 'Euthanasia')]\n",
    "livestock_outcome_subtypes = livestock_euthanasia_df['Outcome Subtype'].value_counts()\n",
    "livestock_outcome_subtypes"
   ]
  },
  {
   "cell_type": "code",
   "execution_count": 55,
   "id": "601815ac-09b3-4891-8600-087f9d9e91ac",
   "metadata": {},
   "outputs": [
    {
     "data": {
      "image/png": "[encoded data removed]",
      "text/plain": [
       "<Figure size 800x300 with 1 Axes>"
      ]
     },
     "metadata": {},
     "output_type": "display_data"
    }
   ],
   "source": [
    "other_outcome_subtypes = {\n",
    "    'Behavior': 1,\n",
    "    'Suffering': 1\n",
    "       \n",
    "}\n",
    "\n",
    "outcome = list(other_outcome_subtypes.keys())\n",
    "counts = list(other_outcome_subtypes.values())\n",
    "\n",
    "\n",
    "plt.figure(figsize=(8, 3))\n",
    "plt.bar(outcome, counts, color='navy')\n",
    "plt.xlabel('')\n",
    "plt.ylabel('')\n",
    "plt.title('Livestock')\n",
    "plt.xticks(rotation=45)  \n",
    "plt.show()"
   ]
  }
 ],
 "metadata": {
  "kernelspec": {
   "display_name": "anaconda-2024.02-py310",
   "language": "python",
   "name": "conda-env-anaconda-2024.02-py310-py"
  },
  "language_info": {
   "codemirror_mode": {
    "name": "ipython",
    "version": 3
   },
   "file_extension": ".py",
   "mimetype": "text/x-python",
   "name": "python",
   "nbconvert_exporter": "python",
   "pygments_lexer": "ipython3",
   "version": "3.10.14"
  }
 },
 "nbformat": 4,
 "nbformat_minor": 5
}
